{
 "cells": [
  {
   "cell_type": "markdown",
   "metadata": {
    "id": "17sTl4IWcB1D"
   },
   "source": [
    "# Flame front analysis"
   ]
  },
  {
   "cell_type": "markdown",
   "metadata": {
    "id": "LGgsVbpNrOow"
   },
   "source": [
    "# Statistics\n",
    "\n",
    "The goal of this notebook is to obtain the statistics regarding the flame front.\n",
    "Filippo already reported the velocity fluctuations.\n",
    "\n",
    "## Velocity fluctuations\n",
    "\n",
    "This part focuses on flame 1 and flame 2 of paper 1. Data is stored under Project Data (U:): **U:\\High hydrogen\\ffaldella\\data**\n",
    "\n",
    "```{list-table} Specifications of flame 1 and 2.\n",
    ":header-rows: 1\n",
    ":name: tab_flames_info\n",
    "\n",
    "* - Flame\n",
    "  - $D$ [mm]\n",
    "  - $Re_{D}$ [-]\n",
    "  - $\\phi$ [-] \n",
    "  - $H_2\\%$ \n",
    "\n",
    "* - **flame 1**\n",
    "  - 25.7\n",
    "  - 16139\n",
    "  - 0.6\n",
    "  - 100\n",
    "\n",
    "* - **flame 2**\n",
    "  - 25.7\n",
    "  - 12005\n",
    "  - 0.6 \n",
    "  - 100 \n",
    "```\n",
    "\n",
    "```{figure} ./images/flame_1.png\n",
    ":width: 100%\n",
    ":name: flame_1_vel_fluc\n",
    "\n",
    "Normalized mean velocity field $\\overline{u}/U_{b}$, Normalized Reynolds normal stress in the axial $\\overline{u'u'}/U_{b}^2$ and radial direction $\\overline{v'v'}/U_{b}^2$, respectively. The dashed line indicates the average flame front location and is used to determine the flame cone angle.\n",
    "```\n",
    "\n",
    "```{figure} ./images/flame_2.png\n",
    ":width: 100%\n",
    ":name: flame_2_vel_fluc\n",
    "\n",
    "Normalized mean velocity field $\\overline{u}/U_{b}$, Normalized Reynolds normal stress in the axial $\\overline{u'u'}/U_{b}^2$ and radial direction $\\overline{v'v'}/U_{b}^2$, respectively. The dashed line indicates the average flame front location and is used to determine the flame cone angle.\n",
    "```"
   ]
  },
  {
   "cell_type": "markdown",
   "metadata": {
    "id": "PFxmSkg_6LjJ"
   },
   "source": [
    "## Distribution of flame front contours\n",
    "\n",
    "```{list-table} PDFs of flame front contours of flame 1 and 2 (top: 20 images, bottom: 5000 images).\n",
    ":header-rows: 1\n",
    ":name: tab_flames_pdf_front\n",
    "\n",
    "* - ![flame_1_pdf_front](./images/flame_1_pdf_front_20.png)\n",
    "  - ![flame_2_pdf_front](./images/flame_2_pdf_front_20.png)\n",
    "\n",
    "* - ![flame_1_pdf_front](./images/flame_1_pdf_front_5000.png)\n",
    "  - ![flame_2_pdf_front](./images/flame_2_pdf_front_5000.png)\n",
    "```\n",
    "\n",
    "test\n",
    "\n",
    "````{panels}\n",
    ":container: container-fluid \n",
    ":column: col-xl col-xl col-xl\n",
    ":card: shadow-none border-0\n",
    "\n",
    "```{figure} ./images/flame_1_pdf_front_5000.png\n",
    ":width: 200%\n",
    ":name: example1\n",
    "\n",
    "Sub-caption 1\n",
    "```\n",
    "\n",
    "---\n",
    "\n",
    "```{figure} ./images/flame_2_pdf_front_5000.png\n",
    ":width: 100%\n",
    ":name: example2\n",
    "\n",
    "Sub-caption 2\n",
    "```\n",
    "\n",
    "````"
   ]
  }
 ],
 "metadata": {
  "colab": {
   "collapsed_sections": [],
   "name": "flame_front_analysis.ipynb",
   "provenance": []
  },
  "kernelspec": {
   "display_name": "Python 3 (ipykernel)",
   "language": "python",
   "name": "python3"
  },
  "language_info": {
   "codemirror_mode": {
    "name": "ipython",
    "version": 3
   },
   "file_extension": ".py",
   "mimetype": "text/x-python",
   "name": "python",
   "nbconvert_exporter": "python",
   "pygments_lexer": "ipython3",
   "version": "3.9.10"
  }
 },
 "nbformat": 4,
 "nbformat_minor": 4
}