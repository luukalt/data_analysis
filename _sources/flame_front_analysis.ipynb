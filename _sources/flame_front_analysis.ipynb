{
 "cells": [
  {
   "cell_type": "markdown",
   "metadata": {
    "id": "17sTl4IWcB1D"
   },
   "source": [
    "# Flame front analysis"
   ]
  },
  {
   "cell_type": "markdown",
   "metadata": {
    "id": "q5j7RzRTbvD3",
    "tags": [
     "remove-cell"
    ]
   },
   "source": [
    "## Read (unzip) packages from Google drive and add them to the correct directory in colab"
   ]
  },
  {
   "cell_type": "code",
   "execution_count": null,
   "metadata": {
    "id": "R3QWUO1vur1M",
    "tags": [
     "remove-cell"
    ]
   },
   "outputs": [],
   "source": [
    "# !unzip -o \"/content/drive/MyDrive/Colab Notebooks/lib/cantera_env.zip\" -d \"/usr/local/lib/python3.7/site-packages/\" &> /dev/null\n",
    "\n",
    "import sys\n",
    "\n",
    "!wget https://github.com/luukalt/data_analysis/raw/main/cantera_env.zip &> /dev/null\n",
    "\n",
    "!unzip -o \"/content/cantera_env.zip\" -d \"/usr/local/lib/python3.7/site-packages/\" &> /dev/null\n",
    "\n",
    "colab_package_dir = \"/usr/local/lib/python3.7/site-packages/\"\n",
    "\n",
    "sys.path.append(colab_package_dir)"
   ]
  },
  {
   "cell_type": "markdown",
   "metadata": {
    "id": "o3I1p4qed0Zz"
   },
   "source": [
    "# Main\n",
    "\n"
   ]
  },
  {
   "cell_type": "markdown",
   "metadata": {
    "id": "PM5auZFX82-Z"
   },
   "source": [
    "## Import packages"
   ]
  },
  {
   "cell_type": "code",
   "execution_count": null,
   "metadata": {
    "id": "F4ozcAyN8wGj",
    "tags": [
     "remove-cell"
    ]
   },
   "outputs": [],
   "source": [
    "import cv2\n",
    "from google.colab.patches import cv2_imshow\n",
    "from matplotlib import pyplot as plt\n",
    "import numpy as np\n",
    "import imutils\n",
    "import os"
   ]
  },
  {
   "cell_type": "markdown",
   "metadata": {
    "id": "LGgsVbpNrOow"
   },
   "source": [
    "# Statistics\n",
    "\n",
    "The goal of this notebook is to obtain the statistics regarding the flame front.\n",
    "Filippo already reported the velocity fluctuations.\n",
    "\n",
    "## Velocity fluctuations\n",
    "\n",
    "This part focuses on flame 1 and flame 2 of paper 1. Data is stored under Project Data (U:): **U:\\High hydrogen\\ffaldella\\data**\n",
    "\n",
    "```{list-table} Specifications of flame 1 and 2\n",
    ":header-rows: 1\n",
    ":name: tab_flames_info\n",
    "\n",
    "* - Flame\n",
    "  - $D$ [mm]\n",
    "  - $Re_{D}$ [-]\n",
    "  - $\\phi$ [-] \n",
    "  - $H_2\\%$ \n",
    "\n",
    "* - **flame 1**\n",
    "  - 25.7\n",
    "  - 16139\n",
    "  - 0.6\n",
    "  - 100\n",
    "\n",
    "* - **flame 2**\n",
    "  - 25.7\n",
    "  - 12005\n",
    "  - 0.6 \n",
    "  - 100 \n",
    "```\n",
    "\n",
    "**Flame 1**\n",
    "![flame_1](./images/flame_1.png)\n",
    "\n",
    "**Flame 2**\n",
    "![flame_2](./images/flame_2.png)\n",
    "\n",
    "From left to right:  Normalized mean velocity field $\\overline{u}/U_{b}$, Normalized Reynolds normal stress in the axial $\\overline{u'u'}/U_{b}^2$ and radial direction $\\overline{v'v'}/U_{b}^2$, respectively. The dashed line indicates the average flame front location and is used to determine the flame cone angle.\n"
   ]
  },
  {
   "cell_type": "markdown",
   "metadata": {
    "id": "PFxmSkg_6LjJ"
   },
   "source": [
    "## Distribution of flame front contours"
   ]
  },
  {
   "cell_type": "markdown",
   "metadata": {
    "colab": {
     "base_uri": "https://localhost:8080/"
    },
    "id": "esUoXmeueiKj",
    "outputId": "83f459d6-c78f-4b50-a1e8-c7fc1f79789c"
   },
   "source": [
    "```{list-table} PDFs of flame front contours of flame 1 and 2\n",
    ":header-rows: 1\n",
    ":name: tab_flames_pdf_front\n",
    "\n",
    "* - ![flame_1_pdf_front](./images/flame_1_pdf_front_20.png)\n",
    "  - ![flame_2_pdf_front](./images/flame_2_pdf_front_20.png)\n",
    "\n",
    "* - ![flame_1_pdf_front](./images/flame_1_pdf_front_5000.png)\n",
    "  - ![flame_2_pdf_front](./images/flame_2_pdf_front_5000.png)\n",
    "```"
   ]
  }
 ],
 "metadata": {
  "colab": {
   "collapsed_sections": [],
   "name": "flame_front_analysis.ipynb",
   "provenance": []
  },
  "kernelspec": {
   "display_name": "Python 3 (ipykernel)",
   "language": "python",
   "name": "python3"
  },
  "language_info": {
   "codemirror_mode": {
    "name": "ipython",
    "version": 3
   },
   "file_extension": ".py",
   "mimetype": "text/x-python",
   "name": "python",
   "nbconvert_exporter": "python",
   "pygments_lexer": "ipython3",
   "version": "3.9.9"
  }
 },
 "nbformat": 4,
 "nbformat_minor": 4
}
