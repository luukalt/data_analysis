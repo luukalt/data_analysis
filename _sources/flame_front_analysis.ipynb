{
 "cells": [
  {
   "cell_type": "markdown",
   "metadata": {
    "id": "17sTl4IWcB1D"
   },
   "source": [
    "# Flame front analysis"
   ]
  },
  {
   "cell_type": "markdown",
   "metadata": {
    "id": "q5j7RzRTbvD3",
    "tags": [
     "remove-cell"
    ]
   },
   "source": [
    "## Read (unzip) packages from Google drive and add them to the correct directory in colab"
   ]
  },
  {
   "cell_type": "code",
   "execution_count": null,
   "metadata": {
    "id": "R3QWUO1vur1M",
    "tags": [
     "remove-cell"
    ]
   },
   "outputs": [],
   "source": [
    "# !unzip -o \"/content/drive/MyDrive/Colab Notebooks/lib/cantera_env.zip\" -d \"/usr/local/lib/python3.7/site-packages/\" &> /dev/null\n",
    "\n",
    "import sys\n",
    "\n",
    "!wget https://github.com/luukalt/data_analysis/raw/main/cantera_env.zip &> /dev/null\n",
    "\n",
    "!unzip -o \"/content/cantera_env.zip\" -d \"/usr/local/lib/python3.7/site-packages/\" &> /dev/null\n",
    "\n",
    "colab_package_dir = \"/usr/local/lib/python3.7/site-packages/\"\n",
    "\n",
    "sys.path.append(colab_package_dir)"
   ]
  },
  {
   "cell_type": "markdown",
   "metadata": {
    "id": "o3I1p4qed0Zz"
   },
   "source": [
    "# Main\n",
    "\n"
   ]
  },
  {
   "cell_type": "markdown",
   "metadata": {
    "id": "PM5auZFX82-Z"
   },
   "source": [
    "## Import packages"
   ]
  },
  {
   "cell_type": "code",
   "execution_count": null,
   "metadata": {
    "id": "F4ozcAyN8wGj",
    "tags": [
     "remove-cell"
    ]
   },
   "outputs": [],
   "source": [
    "import cv2\n",
    "from google.colab.patches import cv2_imshow\n",
    "from matplotlib import pyplot as plt\n",
    "import numpy as np\n",
    "import imutils\n",
    "import os"
   ]
  },
  {
   "cell_type": "markdown",
   "metadata": {
    "id": "LGgsVbpNrOow"
   },
   "source": [
    "## Velocity fluctuations\n",
    "\n",
    "This part focuses on flame 1 and flame 2 of paper 1. Data is stored under Project Data (U:): **U:\\High hydrogen\\ffaldella\\data**\n",
    "\n",
    "Flame | $D$ [mm] | $Re_{D}$ [-] | $\\phi$ [-] | $H_2\\%$ | data directory | comment Filippo Davis\n",
    "--- | --- | --- | --- | --- | --- | --- |\n",
    "**flame 1** | 25.7 | 16139 | 0.6 | 100 | Filippo_25mm_ID_Jet_flame_2\\Cam_Date=190923_Time=164708 | Re 16 000, dt 26 mus, t lab 22, Qair 262, Qh2 66, h2 100%, phi 0_6\n",
    "**flame 2** | 25.7 | 12005 | 0.6 | 100 | Filippo_25mm_ID_Jet_flame\\Cam_Date=190920_Time=173417 | dt 34, phi 0.6, h2 100%, Qair 195.96, QH2 49.384 , vbulk 8.94, Re 12005, Tlab 21.5 \n",
    "**flame X** | 25.7 | 11949 | 0.6 | 100 | Filippo_25mm_ID_Jet_flame_3\\Cam_Date=190924_Time=105245 | dt 34, phi 0.6, h2 100%, Qair 195.04, QH2 49.15 , vbulk 8.89, Re 11949, Tlab 22\n",
    "\n",
    "\n",
    "\n",
    "The goal of this notebook is to obtain the statistics regarding the flame front.\n",
    "Filippo already reported the velocity fluctuations.\n",
    "\n",
    "\n",
    "**Flame 1**\n",
    "![flame1](https://drive.google.com/uc?export=view&id=1LFQWAUrUWj1g1X7wC3xU8f-5cj1thkaO)\n",
    "\n",
    "**Flame 2**\n",
    "![flame2](https://drive.google.com/uc?export=view&id=1LwVXuZKcrHHVWP7v6HetsXHKEYy7c3uu)\n",
    "\n",
    "\n",
    "From left to right:  Normalized mean velocity field $\\overline{u}/U_{b}$, Normalized Reynolds normal stress in the axial $\\overline{u'u'}/U_{b}^2$ and radial direction $\\overline{v'v'}/U_{b}^2$, respectively. The dashed line indicates the average flame front location and is used to determine the flame cone angle.\n"
   ]
  },
  {
   "cell_type": "markdown",
   "metadata": {
    "id": "PFxmSkg_6LjJ"
   },
   "source": [
    "## Statistics: Flame front contours"
   ]
  },
  {
   "cell_type": "code",
   "execution_count": null,
   "metadata": {
    "colab": {
     "base_uri": "https://localhost:8080/"
    },
    "id": "esUoXmeueiKj",
    "outputId": "83f459d6-c78f-4b50-a1e8-c7fc1f79789c"
   },
   "outputs": [
    {
     "data": {
      "text/plain": [
       "255"
      ]
     },
     "execution_count": 47,
     "metadata": {},
     "output_type": "execute_result"
    }
   ],
   "source": []
  }
 ],
 "metadata": {
  "colab": {
   "collapsed_sections": [],
   "name": "flame_front_analysis.ipynb",
   "provenance": []
  },
  "kernelspec": {
   "display_name": "Python 3 (ipykernel)",
   "language": "python",
   "name": "python3"
  },
  "language_info": {
   "codemirror_mode": {
    "name": "ipython",
    "version": 3
   },
   "file_extension": ".py",
   "mimetype": "text/x-python",
   "name": "python",
   "nbconvert_exporter": "python",
   "pygments_lexer": "ipython3",
   "version": "3.9.9"
  }
 },
 "nbformat": 4,
 "nbformat_minor": 4
}
