{
 "cells": [
  {
   "cell_type": "markdown",
   "metadata": {
    "id": "17sTl4IWcB1D"
   },
   "source": [
    "# Mixture properties\n",
    "## Mount Drive"
   ]
  },
  {
   "cell_type": "markdown",
   "metadata": {
    "id": "q5j7RzRTbvD3",
    "tags": [
     "remove-cell"
    ]
   },
   "source": [
    "## Read (unzip) packages from Github and add them to the correct directory in colab"
   ]
  },
  {
   "cell_type": "code",
   "execution_count": null,
   "metadata": {
    "id": "R3QWUO1vur1M",
    "tags": [
     "remove-cell"
    ]
   },
   "outputs": [],
   "source": [
    "# !unzip -o \"/content/drive/MyDrive/Colab Notebooks/lib/cantera_env.zip\" -d \"/usr/local/lib/python3.7/site-packages/\" &> /dev/null\n",
    "\n",
    "import sys\n",
    "\n",
    "!wget https://github.com/luukalt/data_analysis/raw/main/cantera_env.zip &> /dev/null\n",
    "\n",
    "!unzip -o \"/content/cantera_env.zip\" -d \"/usr/local/lib/python3.7/site-packages/\" &> /dev/null\n",
    "\n",
    "colab_package_dir = \"/usr/local/lib/python3.7/site-packages/\"\n",
    "\n",
    "sys.path.append(colab_package_dir)"
   ]
  },
  {
   "cell_type": "markdown",
   "metadata": {
    "id": "o3I1p4qed0Zz"
   },
   "source": [
    "# **Main**"
   ]
  },
  {
   "cell_type": "markdown",
   "metadata": {
    "id": "yW3zuVNt5mL_"
   },
   "source": [
    "## Import packages"
   ]
  },
  {
   "cell_type": "code",
   "execution_count": null,
   "metadata": {
    "id": "nU_Dfq_M5kx1",
    "tags": [
     "hide-input"
    ]
   },
   "outputs": [],
   "source": [
    "import cantera as ct\n",
    "import sys\n",
    "from matplotlib import pyplot as plt\n",
    "from matplotlib import cm\n",
    "import numpy as np\n",
    "import warnings\n",
    "warnings.filterwarnings('ignore')"
   ]
  },
  {
   "cell_type": "markdown",
   "metadata": {
    "id": "vt8cqFkYuQ9f"
   },
   "source": [
    "## Heating values"
   ]
  },
  {
   "cell_type": "code",
   "execution_count": null,
   "metadata": {
    "colab": {
     "base_uri": "https://localhost:8080/"
    },
    "id": "QTDKG-80uFQS",
    "outputId": "4c5398dc-3bf0-4ed6-8081-45a76825c3a2",
    "tags": [
     "hide-input"
    ]
   },
   "outputs": [],
   "source": [
    "def heating_value(fuel):\n",
    "    \"\"\" Returns the LHV and HHV for the specified fuel \"\"\"\n",
    "    gas = ct.Solution('gri30.xml')\n",
    "    T_u = 293.15\n",
    "    p_u = ct.one_atm\n",
    "    gas.TP = T_u, p_u\n",
    "    gas.set_equivalence_ratio(1.0, fuel, 'O2:1.0')\n",
    "    h1 = gas.enthalpy_mass\n",
    "    Y_fuel = gas[fuel].Y[0]\n",
    "\n",
    "    water = ct.Water()\n",
    "    # Set liquid water state, with vapor fraction x = 0\n",
    "    water.TX = T_u, 0\n",
    "    h_liquid = water.h\n",
    "    # Set gaseous water state, with vapor fraction x = 1\n",
    "    water.TX = T_u, 1\n",
    "    h_gas = water.h\n",
    "\n",
    "    # complete combustion products\n",
    "    Y_products = {'CO2': gas.elemental_mole_fraction('C'),\n",
    "                  'H2O': 0.5 * gas.elemental_mole_fraction('H'),\n",
    "                  'N2': 0.5 * gas.elemental_mole_fraction('N')}\n",
    "\n",
    "    gas.TPX = None, None, Y_products\n",
    "    Y_H2O = gas['H2O'].Y[0]\n",
    "    h2 = gas.enthalpy_mass\n",
    "    LHV = -(h2-h1)/Y_fuel\n",
    "    HHV = -(h2-h1 + (h_liquid-h_gas) * Y_H2O)/Y_fuel\n",
    "    return LHV, HHV\n",
    "\n",
    "fuels = ['H2', 'CH4', 'C2H6', 'C3H8', 'NH3', 'CH3OH']\n",
    "print('fuel   LHV (MJ/kg)   HHV (MJ/kg)')\n",
    "\n",
    "for fuel in fuels:\n",
    "    LHV, HHV = heating_value(fuel)\n",
    "    print('{:8s} {:7.3f}      {:7.3f}'.format(fuel, LHV/1e6, HHV/1e6))\n",
    "\n",
    "# # Lower Heating Values of well-known combustion fuels\n",
    "# LHV_H2 = heating_value('H2')\n",
    "# LHV_CH4 = heating_value('CH4')\n",
    "# LHV_C2H6 = heating_value('C2H6')"
   ]
  },
  {
   "cell_type": "markdown",
   "metadata": {
    "id": "rYKMhgPbucCi"
   },
   "source": [
    "## Laminar flame speed"
   ]
  },
  {
   "cell_type": "markdown",
   "metadata": {
    "id": "EuSed2s91-Ne"
   },
   "source": [
    "### Define mixtures"
   ]
  },
  {
   "cell_type": "code",
   "execution_count": null,
   "metadata": {
    "id": "twdjs7BN2AXo",
    "tags": [
     "hide-input"
    ]
   },
   "outputs": [],
   "source": [
    "# Equivalence ratios    \n",
    "phis = [0.5] # Set equivalence ratios ranging from 0.4 to 0.8\n",
    "\n",
    "# Hydrogen percentages by volume of fuel\n",
    "H2_percentages = [100] # Set hydrogen volume percentages of the fuel ranging from 0 to 100 \n"
   ]
  },
  {
   "cell_type": "markdown",
   "metadata": {
    "id": "ROjzNj8v2FhC"
   },
   "source": [
    "### Flame object [initialization + solve equations]"
   ]
  },
  {
   "cell_type": "code",
   "execution_count": null,
   "metadata": {
    "id": "mQOsm1DY4GNT",
    "tags": [
     "hide-input"
    ]
   },
   "outputs": [],
   "source": [
    "# Define colors to make distinction between different mixtures based on hydrogen percentage\n",
    "colors = cm.viridis(np.linspace(0, 1, len(H2_percentages)))\n",
    "\n",
    "#%% Premixed flame object\n",
    "class premixed_flame:\n",
    "    \n",
    "    def __init__(self, phi, H2_percentage, T_u=293.15, p_u=101325):\n",
    "\n",
    "        # Color and label for plots\n",
    "        self.color = colors[H2_percentages.index(H2_percentage)]\n",
    "        self.label = str(int(H2_percentage)) + r'$\\% H_2$' \n",
    "        \n",
    "        #%% Constants\n",
    "        R_gas_mol = 8314 # Universal gas constant [units: J*K^-1*kmol^-1]\n",
    "        R_gas_mass = 287 # universal gas constant [units: J*K^-1*kg^-1]\n",
    "\n",
    "        self.T_u = T_u      # Inlet temperature in K\n",
    "        self.p_u = p_u    # Inlet pressure in Pa\n",
    "        \n",
    "        # Molar mass of species [units: kg*kmol^-1]\n",
    "        M_H = 1.008 \n",
    "        M_C = 12.011\n",
    "        M_N = 14.007\n",
    "        M_O = 15.999\n",
    "        M_H2 = M_H*2\n",
    "        M_CH4 = M_C + M_H*4\n",
    "        M_CO2 = M_C + M_O*4\n",
    "        \n",
    "        # Define volume fractions of species in air [units: -]\n",
    "        f_O2 = 0.21\n",
    "        f_N2 = 0.78\n",
    "        f_AR = 0.01\n",
    "        \n",
    "        # # Define composition of DNG in volume percentages\n",
    "        # REST_in_DNG_percentage = 0.6\n",
    "        # CH4_percentage = 81.3*(1 + REST_in_DNG_percentage/100) # Volume percentage of CH4 in DNG\n",
    "        # C2H6_percentage = 3.7*(1 + REST_in_DNG_percentage/100) # Volume percentage of C2H6 in DNG\n",
    "        # N2_in_DNG_percentage = 14.4*(1 + REST_in_DNG_percentage/100) # Volume percentage of N2 in DNG\n",
    "        CH4_percentage = 100 # Volume percentage of CH4 in DNG\n",
    "        \n",
    "        rho_H2 = M_H2*self.p_u/(self.T_u*R_gas_mol)\n",
    "        rho_CH4 = M_CH4*self.p_u/(self.T_u*R_gas_mol)\n",
    "        rho_CO2 = M_CO2*self.p_u/(self.T_u*R_gas_mol)\n",
    "        \n",
    "        # Equivalence ratio\n",
    "        self.phi = phi\n",
    "        \n",
    "        # Hydrogen percentage of fuel\n",
    "        self.H2_percentage = H2_percentage\n",
    "        \n",
    "        # DNG percentage of fuel\n",
    "        self.DNG_percentage = 100 - self.H2_percentage\n",
    "                                  \n",
    "        # Volume fractions of fuel\n",
    "        f_H2 = self.H2_percentage/100\n",
    "        f_DNG = self.DNG_percentage/100\n",
    "        f_CH4 = f_DNG*(CH4_percentage/100)\n",
    "        # f_C2H6 = f_DNG*(C2H6_percentage/100)\n",
    "        # f_N2_in_DNG = f_DNG*(N2_in_DNG_percentage/100)\n",
    "        \n",
    "        # Check if volume fractions of fuel and air are correct\n",
    "        check_air = f_O2 + f_N2 + f_AR\n",
    "        # check_fuel = f_H2 + f_CH4 + f_C2H6 + f_N2_in_DNG\n",
    "        check_fuel = f_H2 + f_CH4\n",
    "        if check_air == 1.0 and round(check_fuel,3) == 1.0:\n",
    "            pass\n",
    "        else:\n",
    "            sys.exit(\"fuel or air composition is incorrect!\")\n",
    "            \n",
    "        if round(check_fuel,3) == 1.0:\n",
    "            pass\n",
    "        else:\n",
    "            sys.exit(\"fuel composition is incorrect!\")\n",
    "        \n",
    "        # Definition of the mixture\n",
    "        # 1. Set the reaction mechanism\n",
    "        self.gas = ct.Solution('gri30.xml')\n",
    "        \n",
    "        # 2. Define the fuel and air composition\n",
    "        # fuel = {'H2':f_H2, 'CH4':f_CH4, 'C2H6':f_C2H6, 'N2':f_N2_in_DNG}\n",
    "        fuel = {'H2':f_H2, 'CH4':f_CH4}\n",
    "        air = {'N2':f_N2/f_O2, 'O2':1.0, 'AR':f_AR/f_O2}   \n",
    "        \n",
    "        # 3. Set the equivalence ratio\n",
    "        self.gas.set_equivalence_ratio(phi, fuel, air)\n",
    "        \n",
    "        # 4. Set the transport model\n",
    "        self.gas.transport_model= 'Multi'\n",
    "        \n",
    "        # 5. Set the unburnt mixture temperature and pressure\n",
    "        self.gas.TP = self.T_u, self.p_u\n",
    "\n",
    "        # Unburnt mixture properties\n",
    "        self.h_u = self.gas.enthalpy_mass\n",
    "        self.cp_u = self.gas.cp_mass\n",
    "        self.cv_u = self.gas.cv_mass\n",
    "        self.rho_u = self.gas.density_mass\n",
    "        self.mu_u = self.gas.viscosity\n",
    "        self.nu_u = self.mu_u/self.rho_u\n",
    "        self.lambda_u= self.gas.thermal_conductivity\n",
    "        self.alpha_u = self.lambda_u/(self.rho_u*self.cp_u)\n",
    "        \n",
    "    def solve_equations(self):\n",
    "        \n",
    "        # Check molar and mass fractions\n",
    "        self.X_H2 = self.gas[\"H2\"].X[0]\n",
    "        self.X_CH4 = self.gas[\"CH4\"].X[0]\n",
    "        self.X_C2H6 = self.gas[\"C2H6\"].X[0]\n",
    "        self.X_O2 = self.gas[\"O2\"].X[0]\n",
    "        self.X_N2 = self.gas[\"N2\"].X[0]\n",
    "        self.X_Ar = self.gas[\"AR\"].X[0]\n",
    "        \n",
    "        # Set domain size (1D)\n",
    "        width = 0.05  # units: m\n",
    "        \n",
    "        # Create object for freely-propagating premixed flames\n",
    "        flame = ct.FreeFlame(self.gas, width=width)\n",
    "        \n",
    "        # Set the criteria used to refine one domain\n",
    "        flame.set_refine_criteria(ratio=3, slope=0.1, curve=0.1)\n",
    "        \n",
    "        # Solve the equations\n",
    "        flame.solve(loglevel=0, auto=True)\n",
    "        \n",
    "        # Result 1: Laminar flame speed\n",
    "        self.S_L0 = flame.velocity[0] # m/s\n",
    "        \n",
    "        # Result 2: Adiabtaic flame temperature\n",
    "        self.T_ad = self.gas.T\n",
    "        \n",
    "        # burnt mixture properties\n",
    "        self.h_b = self.gas.enthalpy_mass\n",
    "        self.cp_b = self.gas.cp_mass\n",
    "        self.cv_b = self.gas.cv_mass\n",
    "        self.rho_b = self.gas.density_mass\n",
    "        self.mu_b = self.gas.viscosity\n",
    "        self.nu_b = self.mu_b/self.rho_b\n",
    "        self.lambda_b = self.gas.thermal_conductivity\n",
    "        self.alpha_b = self.lambda_b/(self.rho_b*self.cp_b)\n",
    "        self.X_CO2 = self.gas[\"CO2\"].X[0]\n",
    "        self.X_NO2 = self.gas[\"NO2\"].X[0]\n",
    "        self.X_NO = self.gas[\"NO\"].X[0]\n",
    "        self.X_N2O = self.gas[\"N2O\"].X[0]\n",
    "        "
   ]
  },
  {
   "cell_type": "markdown",
   "metadata": {
    "id": "T8rcpSGsvaKm"
   },
   "source": [
    "### Perform calculations"
   ]
  },
  {
   "cell_type": "code",
   "execution_count": null,
   "metadata": {
    "colab": {
     "base_uri": "https://localhost:8080/"
    },
    "id": "XxInq3BeurQd",
    "outputId": "95046958-5dc8-4c06-aa93-717537524933",
    "tags": [
     "hide-input"
    ]
   },
   "outputs": [],
   "source": [
    "# Initialize list for flame objects\n",
    "flames = []\n",
    "\n",
    "# Create flame objects and start simulations\n",
    "for phi in phis:\n",
    "    for H2_percentage in H2_percentages:\n",
    "\n",
    "      flame = premixed_flame(phi, H2_percentage)\n",
    "      flame.solve_equations()\n",
    "      flames.append(flame)\n",
    "      T_u = flame.T_u\n",
    "      p_u = flame.p_u\n",
    "      \n",
    "      print('Mixture solved: phi=' + str(phi) + ', H2%=' + str(H2_percentage))\n",
    "      print('Laminar flame speed = ' + str(round(flame.S_L0, 4)) + ' m/s')\n",
    "      print('unburnt mixture temperature = ' + str(round(flame.T_u, 2)) + ' K')\n",
    "      print('Adiabtic flame temperature = ' + str(round(flame.T_ad, 2)) + ' K')\n",
    "      print('------------------------------------------------------')"
   ]
  },
  {
   "cell_type": "markdown",
   "metadata": {
    "id": "TcvdgcUDzt-X"
   },
   "source": [
    "# **Plots**\n"
   ]
  },
  {
   "cell_type": "code",
   "execution_count": null,
   "metadata": {
    "colab": {
     "base_uri": "https://localhost:8080/",
     "height": 865
    },
    "id": "XyWhf1OivUrA",
    "outputId": "ed1a3e12-41e6-41b5-df6b-67dd15331b25",
    "tags": [
     "hide-input"
    ]
   },
   "outputs": [],
   "source": [
    "#%% Plots A: Laminar flame speed/adiabatic flame temperture vs equivalence ratio\n",
    "plt.close('all')\n",
    "\n",
    "# Plot parameters\n",
    "fontsize = 12\n",
    "marker = 'o'\n",
    "markersize = 8\n",
    "linewidth = 1\n",
    "linestyle = 'None'\n",
    "\n",
    "fig_width = 6.4\n",
    "fig_height = 4.8\n",
    "scale_factor = 1.25\n",
    "\n",
    "# Figure 1: Laminar flame speed vs equivalence ratio\n",
    "fig1, ax1 = plt.subplots(figsize=(fig_width*scale_factor, fig_height*scale_factor))\n",
    "ax1.set_xlabel(r'$\\phi$ [-]', fontsize=fontsize)\n",
    "ax1.set_ylabel(r'$S_L0$ [cm.s$^{-1}$]', fontsize=fontsize)\n",
    "ax1.set_xlim(0.3, max(phis) + 0.25)\n",
    "ax1.set_ylim(0, 4)\n",
    "ax1.set_title('Laminar flame speed vs. equivalence ratio \\n $T_u=$' + str(round(T_u, 2)) + ' K, $p_u$=' + str(p_u*1e-5) + ' bar')\n",
    "ax1.grid()\n",
    "\n",
    "# Figure 2: Adiabatic flame temperature vs equivalence ratio\n",
    "fig2, ax2 = plt.subplots(figsize=(fig_width*scale_factor, fig_height*scale_factor))\n",
    "ax2.set_xlabel(r'$\\phi$ [-]', fontsize=fontsize)\n",
    "ax2.set_ylabel(r'$T_{ad}$ [K]', fontsize=fontsize)\n",
    "ax2.set_xlim(0.3, max(phis) + 0.25)\n",
    "ax2.set_ylim(1200, 2800)\n",
    "ax2.grid()\n",
    "ax2.set_title('Adiabtic flame temperature vs. equivalence ratio \\n $T_u=$' + str(round(T_u, 2)) + ' K, $p_u$=' + str(p_u*1e-5) + ' bar')\n",
    "\n",
    "# Initialize list for laminar flame speeds\n",
    "S_L0_lists = [[] for i in range(len(H2_percentages))]\n",
    "# Initialize list for adiabatic flame temperatures\n",
    "T_ad_lists = [[] for i in range(len(H2_percentages))]\n",
    "\n",
    "# Fill Figure 1 and 2\n",
    "for flame in flames:\n",
    "    \n",
    "    index = H2_percentages.index(flame.H2_percentage)\n",
    "    \n",
    "    ax1.plot(flame.phi, flame.S_L0, ls=linestyle,  marker=marker, ms=markersize, c=flame.color, label=flame.label if flame.phi == phis[0] else \"\")\n",
    "    ax2.plot(flame.phi, flame.T_ad, ls=linestyle,  marker=marker, ms=markersize, c=flame.color, label=flame.label if flame.phi == phis[0] else \"\")\n",
    "\n",
    "    S_L0_lists[index] = np.append(S_L0_lists[index], flame.S_L0)\n",
    "    T_ad_lists[index] = np.append(T_ad_lists[index], flame.T_ad)\n",
    "\n",
    "# Plot polynomial fits to show trends for laminar flame speed and adiabatic flame temperature as a function of the equivalence ratio \n",
    "if len(phis) == 1:\n",
    "    pass\n",
    "else:\n",
    "    # Create zipped lists for polynomial fits\n",
    "    lists_zipped = zip(S_L0_lists, T_ad_lists, colors)\n",
    "    \n",
    "    # Order of polynomial\n",
    "    poly_order = 4\n",
    "    \n",
    "    for (S_L0, T_ad, color) in lists_zipped:\n",
    "        # Create new array for phi\n",
    "        phis_fit = np.linspace(phis[0], phis[-1])\n",
    "        \n",
    "        # Plot 3th order polynomial fit for laminar flame speed \n",
    "        coeff_S_L0 = np.polyfit(phis, S_L0, poly_order)\n",
    "        poly_S_L0 = np.poly1d(coeff_S_L0)\n",
    "        S_L0_fit = poly_S_L0(phis_fit)\n",
    "        ax1.plot(phis_fit, S_L0_fit, ls=\"--\", c=color)\n",
    "        \n",
    "        # Plot 3th order polynomial fit for adiabatic flame temperature \n",
    "        coeff_T_ad = np.polyfit(phis, T_ad, poly_order)\n",
    "        poly_T_ad = np.poly1d(coeff_T_ad)\n",
    "        T_ad_fit = poly_T_ad(phis_fit)\n",
    "        ax2.plot(phis_fit, T_ad_fit, ls=\"--\", c=color)\n",
    "\n",
    "# Turn on legends\n",
    "ax1.legend()\n",
    "ax2.legend()\n",
    "\n",
    "# Fix figures layout\n",
    "fig1.tight_layout() \n",
    "fig2.tight_layout()"
   ]
  },
  {
   "cell_type": "markdown",
   "metadata": {
    "id": "Bp9BHfO_5Hya"
   },
   "source": [
    "### Save figures"
   ]
  },
  {
   "cell_type": "code",
   "execution_count": null,
   "metadata": {
    "id": "OWNR2RGj4T-W",
    "tags": [
     "hide-input"
    ]
   },
   "outputs": [],
   "source": [
    "path_saved_images = \"/content/drive/MyDrive/Colab Notebooks/flame_front_analysis_images/saved_images/\"\n",
    "fig1.savefig(path_saved_images + \"SL0_phi_T_u=\" + str(int(T_u)) + \"_p_u=\" +str(int(p_u))+ \".svg\", dpi=300)\n",
    "fig2.savefig(path_saved_images + \"Tad_phi_\" + str(int(T_u)) + \"_p_u=\" +str(int(p_u))+ \".svg\", dpi=300)"
   ]
  }
 ],
 "metadata": {
  "colab": {
   "collapsed_sections": [],
   "name": "mixture_properties.ipynb",
   "provenance": []
  },
  "kernelspec": {
   "display_name": "Python 3 (ipykernel)",
   "language": "python",
   "name": "python3"
  },
  "language_info": {
   "codemirror_mode": {
    "name": "ipython",
    "version": 3
   },
   "file_extension": ".py",
   "mimetype": "text/x-python",
   "name": "python",
   "nbconvert_exporter": "python",
   "pygments_lexer": "ipython3",
   "version": "3.9.7"
  }
 },
 "nbformat": 4,
 "nbformat_minor": 4
}
