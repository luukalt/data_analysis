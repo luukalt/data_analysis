{
 "cells": [
  {
   "cell_type": "markdown",
   "id": "b232b279",
   "metadata": {},
   "source": [
    "# Introduction\n",
    "\n",
    "Follow this site to keep track of my PhD project. Hope you like it! <br>\n",
    "\n",
    "The PhD project consists of 3 tracks:\n",
    "* Fundamental experiments on flashback in hydrogen jet flames using a [tube burner](projects/combustor_tube/experiment_1.md).\n",
    "* Investigation of hydrogen flame flashback in a scaled gas turbine combustor:\n",
    "  * [scaled FlameSheet combustor](projects/combustor_flamesheet_cyl/experiment_2.md)\n",
    "  * [quasi 2D FlameSheet combustor](projects/combustor_flamesheet_2d/experiment_3.md)\n",
    "* Validate and adapt flashback models for hydrogen combustion.\n",
    "* test"
   ]
  }
 ],
 "metadata": {
  "jupytext": {
   "text_representation": {
    "extension": ".md",
    "format_name": "myst",
    "format_version": 0.13,
    "jupytext_version": "1.10.3"
   }
  },
  "kernelspec": {
   "display_name": "Python 3 (ipykernel)",
   "language": "python",
   "name": "python3"
  },
  "language_info": {
   "codemirror_mode": {
    "name": "ipython",
    "version": 3
   },
   "file_extension": ".py",
   "mimetype": "text/x-python",
   "name": "python",
   "nbconvert_exporter": "python",
   "pygments_lexer": "ipython3",
   "version": "3.7.13"
  },
  "source_map": [
   12
  ]
 },
 "nbformat": 4,
 "nbformat_minor": 5
}