{
 "cells": [
  {
   "cell_type": "markdown",
   "id": "8f3b54e9",
   "metadata": {},
   "source": [
    "# Introduction\n",
    "\n",
    "Follow this site to keep track of my PhD project. Hope you like it! <br>\n",
    "\n",
    "The PhD project consists of 3 tracks:\n",
    "* Investigation of hydrogen flame flashback in a scaled gas turbine combustor.\n",
    "* Fundamental experiments on flashback in hydrogen jet flames.\n",
    "* Validate and adapt flashback models for hydrogen combustion."
   ]
  }
 ],
 "metadata": {
  "jupytext": {
   "text_representation": {
    "extension": ".md",
    "format_name": "myst",
    "format_version": 0.13,
    "jupytext_version": "1.10.3"
   }
  },
  "kernelspec": {
   "display_name": "Python 3 (ipykernel)",
   "language": "python",
   "name": "python3"
  },
  "language_info": {
   "codemirror_mode": {
    "name": "ipython",
    "version": 3
   },
   "file_extension": ".py",
   "mimetype": "text/x-python",
   "name": "python",
   "nbconvert_exporter": "python",
   "pygments_lexer": "ipython3",
   "version": "3.7.12"
  },
  "source_map": [
   12
  ]
 },
 "nbformat": 4,
 "nbformat_minor": 5
}