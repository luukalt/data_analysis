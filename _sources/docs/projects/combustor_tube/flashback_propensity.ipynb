{
 "cells": [
  {
   "cell_type": "markdown",
   "metadata": {},
   "source": [
    "# Flashback propensity"
   ]
  }
 ],
 "metadata": {
  "kernelspec": {
   "display_name": "Python 3.9.7 ('base')",
   "language": "python",
   "name": "python3"
  },
  "language_info": {
   "name": "python",
   "version": "3.9.7"
  },
  "orig_nbformat": 4,
  "vscode": {
   "interpreter": {
    "hash": "c8e8de9022a2268fb1235b68c7e3ccb4ef1dbd6437d8c25546341b55001a0043"
   }
  }
 },
 "nbformat": 4,
 "nbformat_minor": 2
}
