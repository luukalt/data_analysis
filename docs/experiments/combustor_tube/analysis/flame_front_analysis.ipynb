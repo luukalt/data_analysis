{
 "cells": [
  {
   "cell_type": "markdown",
   "metadata": {
    "id": "17sTl4IWcB1D"
   },
   "source": [
    "# Flame front analysis"
   ]
  },
  {
   "cell_type": "markdown",
   "metadata": {
    "id": "LGgsVbpNrOow"
   },
   "source": [
    "## Statistics\n",
    "\n",
    "The goal of this notebook is to obtain the statistics regarding the flame front.\n",
    "Filippo already reported the velocity fluctuations.\n",
    "\n",
    "### Velocity fluctuations\n",
    "\n",
    "This part focuses on flame 1 and flame 2 of paper 1. Data is stored under Project Data (U:): **U:\\High hydrogen\\ffaldella\\data**\n",
    "\n",
    "```{list-table} Specifications of flame 1 and 2.\n",
    ":header-rows: 1\n",
    ":name: tab_flames_info\n",
    "\n",
    "* - Flame\n",
    "  - $D$ [mm]\n",
    "  - $Re_{D}$ [-]\n",
    "  - $\\phi$ [-] \n",
    "  - $H_2\\%$ \n",
    "\n",
    "* - **flame 1**\n",
    "  - 25.7\n",
    "  - 16139\n",
    "  - 0.6\n",
    "  - 100\n",
    "\n",
    "* - **flame 2**\n",
    "  - 25.7\n",
    "  - 12005\n",
    "  - 0.6 \n",
    "  - 100 \n",
    "```\n",
    "\n",
    "```{figure} ./images/flame_1.png\n",
    ":width: 100%\n",
    ":name: flame_1_vel_fluc\n",
    "\n",
    "Normalized mean velocity field $\\overline{u}/U_{b}$, Normalized Reynolds normal stress in the axial $\\overline{u'u'}/U_{b}^2$ and radial direction $\\overline{v'v'}/U_{b}^2$, respectively. The dashed line indicates the average flame front location and is used to determine the flame cone angle.\n",
    "```\n",
    "\n",
    "```{figure} ./images/flame_2.png\n",
    ":width: 100%\n",
    ":name: flame_2_vel_fluc\n",
    "\n",
    "Normalized mean velocity field $\\overline{u}/U_{b}$, Normalized Reynolds normal stress in the axial $\\overline{u'u'}/U_{b}^2$ and radial direction $\\overline{v'v'}/U_{b}^2$, respectively. The dashed line indicates the average flame front location and is used to determine the flame cone angle.\n",
    "```"
   ]
  },
  {
   "cell_type": "markdown",
   "metadata": {
    "id": "PFxmSkg_6LjJ"
   },
   "source": [
    "### Distribution of flame front contours\n",
    "\n",
    "The flame front of the raw PIV images was detected using a self-made algorithm using Gaussian filters, enhancement of the images and eventually a binarization of the image.\n",
    "{numref}`flame_1_frame0_B00004` shows an example.\n",
    "\n",
    "```{figure} ./images/B00004.png\n",
    ":width: 50%\n",
    ":name: flame_1_frame0_B00004\n",
    "\n",
    "Raw PIV image with the flame front contour as determined by the self-made algorithm (red line).\n",
    "```\n",
    "\n",
    "{numref}`flame_1_pdf_front_5000` and {numref}`flame_2_pdf_front_5000` show the distribution of the flame front for 5000 images.\n",
    "\n",
    "````{panels}\n",
    ":container: container-fluid \n",
    ":column: col-xl-6 col-xl-6\n",
    ":card: shadow-none border-0\n",
    "\n",
    "```{figure} ./images/flame_1_pdf_front_5000.png\n",
    ":width: 100%\n",
    ":name: flame_1_pdf_front_5000\n",
    "\n",
    "PDF of flame front contours of flame 1\n",
    "```\n",
    "\n",
    "---\n",
    "\n",
    "```{figure} ./images/flame_2_pdf_front_5000.png\n",
    ":width: 100%\n",
    ":name: flame_2_pdf_front_5000\n",
    "\n",
    "PDF of flame front contours of flame 2\n",
    "```\n",
    "\n",
    "````\n",
    "\n"
   ]
  }
 ],
 "metadata": {
  "language_info": {
   "name": "python"
  },
  "orig_nbformat": 4
 },
 "nbformat": 4,
 "nbformat_minor": 2
}
