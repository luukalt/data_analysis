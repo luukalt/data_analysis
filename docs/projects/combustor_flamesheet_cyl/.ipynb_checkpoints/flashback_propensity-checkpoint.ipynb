{
 "cells": [
  {
   "cell_type": "markdown",
   "metadata": {},
   "source": [
    "# Flashback propensity "
   ]
  },
  {
   "cell_type": "markdown",
   "metadata": {},
   "source": [
    "## Flashback propensity map"
   ]
  },
  {
   "cell_type": "markdown",
   "metadata": {},
   "source": [
    "### Read flashback data"
   ]
  },
  {
   "cell_type": "code",
   "execution_count": null,
   "metadata": {
    "tags": [
     "hide-input",
     "remove-output"
    ]
   },
   "outputs": [],
   "source": [
    "import numpy as np\n",
    "import matplotlib.pyplot as plt\n",
    "from matplotlib.patches import Patch\n",
    "from matplotlib.lines import Line2D\n",
    "import pandas as pd\n",
    "\n",
    "#%% START\n",
    "\n",
    "# Close all windows\n",
    "plt.close('all')\n",
    "\n",
    "#%% COLUMN INDICES OF DATA FILE\n",
    "index_time = 0          # 0. \tTime [hh:mm:ss.xxx]\n",
    "index_T_u = 1           # 1. \tAmbient Temperature T_u [K]\n",
    "index_p_u = 2           # 2. \tAmbient Pressure p_u [Pa]\n",
    "index_f_H2_set = 3      # 3.\tVolume fraction of hydrogen of total fuel [-]\n",
    "index_f_CH4DNG_set = 4  # 4. \tVolume fraction of methane in DNG [-]\n",
    "index_f_C2H6DNG_set = 5 # 5. \tVolume fraction of ethane in DNG [-]\n",
    "index_f_N2DNG_set = 6   # 6. \tVolume fraction of nitrogen in DNG [-]\n",
    "index_D1 = 7            # 7. \tD1 [mm]\n",
    "index_D2 = 8            # 8. \tD2 [mm]\n",
    "index_H_liner = 9       # 9. \tH_liner [mm]\n",
    "index_phi_set = 10      # 10.\tSet equivalence ratio [-]\n",
    "index_u_u_set = 11      # 11.\tSet velocity u1 [m/s]\t\n",
    "index_phi_meas = 12     # 12.\tMeasured equivalence ratio [-]\n",
    "index_u_u_meas = 13     # 13.\tMeasured velocity u1 [m/s]\n",
    "index_f_H2_meas = 14     # 14.\tMeasured volume fraction of hydrogen\n",
    "index_Q_air1_nL_per_min_meas = 15   # 15. \tMeasured Air flow 1 [ln/min]\n",
    "index_Q_air2_nL_per_min_meas  = 16  # 16. \tMeasured Air flow 2 [ln/min]\n",
    "index_Q_DNG_nL_per_min_meas  = 17   # 17. \tMeasured DNG flow [ln/min]\n",
    "index_Q_H2_nL_per_min_meas  = 18    # 18. \tMeasured Hydrogen flow [ln/min]\n",
    "index_m_mix_dot_meas  = 19          # 19.\tMeasured total mass flow of unburnt mixture [kg/s]\n",
    "index_m_air1_dot_meas = 20          # 20.\tMeasured air mass flow of unburnt mixture [kg/s]\n",
    "index_m_fuel_dot_meas = 21          # 21.\tMeasured fuel mass flow of unburnt mixture [kg/s]\n",
    "index_P_thermal_meas = 22           # 22.\tMeasured thermal power output\n",
    "index_rho_mix_meas = 23             # 23.\tMeasured density of unburnt mixture [kg/m^3]\n",
    "index_LHV_H2= 24                    # 24.\tLHV hydrogen [MW]\n",
    "index_LHV_CH4 = 25                  # 25.\tLHV methane [MW]\n",
    "index_LHV_C2H6 = 26                 # 26. \tLHV ethane [MW]\n",
    "\n",
    "variables_list = ['time', 'T_u_ambient', 'p_u_ambient', 'x_H2_set', 'x_CH4_set', 'x_C2H6_set', 'x_N2_set', 'D_inner_set', 'D_outer_set', 'H_liner_meas', 'phi_set', 'u_u_set',\n",
    "                  'phi_meas', 'u_u_meas', 'x_H2_meas', 'Q_a1_meas', 'Q_a2_meas', 'Q_DNG_meas', 'Q_H2_meas',\n",
    "                  'm_mix_dot_meas', 'm_a_dot_meas', 'm_f_dot_meas', 'power_meas', 'rho_u_meas', 'LHV_H2', 'LHV_CH4', 'LHV_C2H6']\n",
    "        \n",
    "\n",
    "# Important indices regarding flashback\n",
    "index_u_u_design = 0\n",
    "index_u_u_first_sign_FB = 1 \n",
    "index_u_u_FB = 2\n",
    "index_data = -1\n",
    "\n",
    "#%% CONSTANTS\n",
    "# T_STP = 273.15 K (= 0 C)\n",
    "# p_STP = 101325 Pa\n",
    "# R = 8.314 Pa*m^3/(K*mol)\n",
    "\n",
    "#%% FORMULAS LABVIEW CONTROL PANEL\n",
    "# Standard conditions correction:\n",
    "# STP = (T_u/T_STP)*(p_STP/p_u)\n",
    "\n",
    "# Molar volume:\n",
    "# V_m = V/n = R*T_u/p_u\n",
    "\n",
    "#%% LIBRARY OF EXPERIMENTAL DATA\n",
    "\n",
    "# Initialize data library\n",
    "flashback_data = {}\n",
    "#  Dictionary with four keys: \n",
    "# - key1: hydrogen content\n",
    "# - key2: phi\n",
    "# - key3: test nr\n",
    "# - key4: date\n",
    "#\n",
    "# and 3 values:\n",
    "# - value1 = frame index design point\n",
    "# - value2 = frame index first sign of flashback point\n",
    "# - value3 = frame index flashback point\n",
    "\n",
    "flashback_data_quartz = {}\n",
    "#  Dictionary with four keys: \n",
    "# - key1: hydrogen content\n",
    "# - key2: phi\n",
    "# - key3: test nr\n",
    "# - key4: date\n",
    "#\n",
    "# and 3 values:\n",
    "# - value1 = frame index flashback point\n",
    "# - value2 = flashback velocity in m.s^-1\n",
    "\n",
    "# Fill library with experimental data\n",
    "\n",
    "############ Steel liner set 1 ############\n",
    "# H0\n",
    "flashback_data[(0, 0.60, 1, '2020-07-30')] = [285, None,  475]\n",
    "flashback_data[(0, 0.70, 1, '2020-07-28')] = [935 , None, 3670]\n",
    "flashback_data[(0, 0.70, 2, '2020-07-30')] = [431, None, 1495]\n",
    "flashback_data[(0, 0.80, 1, '2020-07-28')] = [242, 890, 2037]\n",
    "flashback_data[(0, 0.80, 2, '2020-07-30')] = [320, None, 1068]\n",
    "flashback_data[(0, 0.90, 1, '2020-07-28')] = [540, 1050, 2510]\n",
    "flashback_data[(0, 0.90, 2, '2020-07-30')] = [170, 447, 1175]\n",
    "flashback_data[(0, 1.00, 1, '2020-07-28')] = [660, 965, 1615]\n",
    "flashback_data[(0, 1.00, 2, '2020-07-30')] = [420, None, 1394]\n",
    "\n",
    "# H25\n",
    "flashback_data[(25, 0.50, 1, '2020-07-29')] = [None, None, 280]\n",
    "flashback_data[(25, 0.50, 2, '2020-07-30')] = [None, None, 372]\n",
    "flashback_data[(25, 0.60, 1, '2020-07-29')] = [372, None, 1092]\n",
    "flashback_data[(25, 0.60, 2, '2020-07-30')] = [205, None, 1321]\n",
    "flashback_data[(25, 0.70, 1, '2020-07-29')] = [340, None, 642]\n",
    "flashback_data[(25, 0.70, 2, '2020-07-30')] = [240, None, 464]\n",
    "flashback_data[(25, 0.80, 1, '2020-07-29')] = [445, 1167, 1427]\n",
    "flashback_data[(25, 0.80, 2, '2020-07-30')] = [230, None, 595]\n",
    "flashback_data[(25, 0.90, 1, '2020-07-29')] = [770, 1442, 2179]\n",
    "flashback_data[(25, 0.90, 2, '2020-07-30')] = [327, 770, 1499]\n",
    "flashback_data[(25, 1.00, 1, '2020-07-29')] = [669, 1560, 2408]\n",
    "\n",
    "# H50\n",
    "flashback_data[(50, 0.50, 1, '2020-07-28')] = [585, 815, 1425]\n",
    "flashback_data[(50, 0.50, 2, '2020-07-30')] = [600, 1210, 1610]\n",
    "flashback_data[(50, 0.60, 1, '2020-07-29')] = [760, None, 1402]\n",
    "flashback_data[(50, 0.60, 2, '2020-07-30')] = [510, None, 957]\n",
    "flashback_data[(50, 0.70, 1, '2020-07-28')] = [358, 1340, 2036]\n",
    "flashback_data[(50, 0.70, 2, '2020-07-30')] = [280, 1025, 1432]\n",
    "flashback_data[(50, 0.80, 1, '2020-07-29')] = [30, 470, 1911]\n",
    "flashback_data[(50, 0.80, 2, '2020-07-30')] = [90, 525, 1001]\n",
    "flashback_data[(50, 0.90, 1, '2020-07-28')] = [290, 1260, 2805]\n",
    "flashback_data[(50, 0.90, 2, '2020-07-30')] = [360, 720, 1485]\n",
    "\n",
    "# H75\n",
    "flashback_data[(75, 0.35, 1, '2020-07-29')] = [1770, None, 2025]\n",
    "flashback_data[(75, 0.35, 2, '2020-07-30')] = [819, None, 1305]\n",
    "flashback_data[(75, 0.35, 3, '2020-07-31')] = [562, None, 951]\n",
    "flashback_data[(75, 0.40, 1, '2020-07-29')] = [1600, 2222, 2640]\n",
    "flashback_data[(75, 0.40, 2, '2020-07-30')] = [977, 1560, 1697]\n",
    "flashback_data[(75, 0.40, 3, '2020-07-31')] = [369, 730, 1136]\n",
    "flashback_data[(75, 0.50, 1, '2020-07-29')] = [64, 474, 1139]\n",
    "flashback_data[(75, 0.50, 2, '2020-07-30')] = [95, 798, 1355]\n",
    "flashback_data[(75, 0.50, 3, '2020-07-31')] = [None, 103, 788]\n",
    "flashback_data[(75, 0.60, 1, '2020-07-29')] = [None, 1110, 2405]\n",
    "flashback_data[(75, 0.60, 2, '2020-07-30')] = [None, 450, 1253]\n",
    "flashback_data[(75, 0.60, 3, '2020-07-31')] = [None, 89, 435]\n",
    "flashback_data[(75, 0.70, 1, '2020-07-29')] = [None, None, 82]\n",
    "flashback_data[(75, 0.70, 2, '2020-07-29')] = [None, None, 101]\n",
    "\n",
    "# H100\n",
    "# flashback_data[('H100', '0.30', '1', '2020-07-28')] = [None, None, 3198]\n",
    "flashback_data[(100, 0.30, 2, '2020-07-28')] = [None, None, 700]\n",
    "flashback_data[(100, 0.30, 3, '2020-07-30')] = [None, None, 762]\n",
    "flashback_data[(100, 0.30, 4, '2020-07-31')] = [None, None, 1230]\n",
    "flashback_data[(100, 0.35, 1, '2020-07-29')] = [None, None, 1385]\n",
    "flashback_data[(100, 0.35, 2, '2020-07-30')] = [None, None, 520]\n",
    "flashback_data[(100, 0.35, 3, '2020-07-31')] = [None, None, 1188]\n",
    "flashback_data[(100, 0.40, 1, '2020-07-28')] = [None, 2309, 2786] \n",
    "flashback_data[(100, 0.40, 2, '2020-07-30')] = [None, None, 2003]\n",
    "flashback_data[(100, 0.40, 3, '2020-07-30')] = [None, 530, 1015]\n",
    "flashback_data[(100, 0.40, 4, '2020-07-31')] = [None, None, 1236]\n",
    "flashback_data[(100, 0.50, 1, '2020-07-28')] = [None, None, 896, 99]\n",
    "flashback_data[(100, 0.50, 2, '2020-07-28')] = [None, None, 1942, 99]\n",
    "\n",
    "############ Quartz liner set 1 ############\n",
    "\n",
    "# H50\n",
    "flashback_data_quartz[(50, 0.50, 1, '2020-12-08')] = [14085, 0.996]\n",
    "flashback_data_quartz[(50, 0.60, 1, '2020-12-08')] = [7415, 1.982]\n",
    "flashback_data_quartz[(50, 0.70, 13, '2020-12-08')] = [6712, 2.931]\n",
    "flashback_data_quartz[(50, 0.80, 1, '2020-12-08')] = [10434, 3.947]\n",
    "flashback_data_quartz[(50, 0.90, 1, '2020-12-08')] = [12708, 4.554]\n",
    "\n",
    "# H75\n",
    "flashback_data_quartz[(75, 0.50, 1, '2020-12-08')] = [12461, 2.701]\n",
    "flashback_data_quartz[(75, 0.60, 4, '2020-12-08')] = [13777, 4.998]\n",
    "\n",
    "# H100\n",
    "# flashback_data_quartz[(100, 0.30, 2, '2020-12-09')] = [12483]\n",
    "# flashback_data_quartz[(100, 0.35, 1, '2020-12-09')] = [10055]\n",
    "# flashback_data_quartz[(100, 0.40, 1, '2020-12-09')] = [6552]\n",
    "\n",
    "\n",
    "for key, value in flashback_data.items():\n",
    "    \n",
    "    hydrogen_percentage = key[0]\n",
    "    phi = key[1]\n",
    "    test_nr = key[2]\n",
    "    date = key[3]\n",
    "    \n",
    "    # Directory of data\n",
    "    data_dir = 'data/session_' + str(date) + '/' \n",
    "    \n",
    "    # A: File name of all data (except temperature)\n",
    "    # filename_A = data_dir + 'H' + str(hydrogen_percentage) + '_phi=' + str(phi) + '_u1=x_' + str(date) + '_test' + str(test_nr) + '.txt'\n",
    "    \n",
    "    filename_A =\"https://raw.githubusercontent.com/luukalt/phd/main/docs/projects/combustor_flamesheet_cyl/data/session_\" + str(date) + \"/H\" + str(hydrogen_percentage) + '_phi%3D' + \"{:.2f}\".format(phi) + '_u1%3Dx_' + str(date) + '_test' + str(test_nr) + '.csv'\n",
    "    print(filename_A)\n",
    "    data_A = pd.read_csv(filename_A, header=None)\n",
    "    flashback_data[key].append(data_A)"
   ]
  },
  {
   "cell_type": "markdown",
   "metadata": {},
   "source": [
    "### Flasback map"
   ]
  },
  {
   "cell_type": "code",
   "execution_count": null,
   "metadata": {
    "tags": [
     "hide-input",
     "remove-output"
    ]
   },
   "outputs": [],
   "source": [
    "#%% RESULTS: PLOT CONFIGURATION\n",
    "# Import packages\n",
    "import matplotlib.cm as cm\n",
    "\n",
    "# Use Latex font in plots\n",
    "plt.rcParams['text.usetex'] = True\n",
    "\n",
    "# Color palette\n",
    "cmap = cm.viridis\n",
    "\n",
    "# Use Latex font in plots\n",
    "plt.rcParams.update({\n",
    "    \"text.usetex\": True,\n",
    "    \"font.family\": \"serif\",\n",
    "    \"font.serif\": [\"Computer Modern Roman\"],\n",
    "    \"font.size\": 14.0})\n",
    "\n",
    "# Define hydrogen percentages\n",
    "H2_percentages = [0, 25, 50, 75, 100]\n",
    "\n",
    "# Color for hydrogen content in plot\n",
    "colors = cm.viridis(np.linspace(0, 1, len(H2_percentages)))\n",
    "\n",
    "# Markers for hydrogen content in plot\n",
    "markers = ['o','^','s','p', '*']\n",
    "markersizes = [8, 8, 8, 10, 10]\n",
    "\n",
    "label = 'H2% = ' + str(H2_percentages)\n",
    "\n",
    "# Marker specification\n",
    "fill_style_steel = 'full'\n",
    "fill_style_quartz = 'none'\n",
    "\n",
    "#%% RESULTS: FLASHBACK PROPENSITY MAP FOR VARYING HYDROGEN CONTENT AND PHI at FB\n",
    "fig1, ax1 = plt.subplots(dpi=300)\n",
    "\n",
    "for key, value in flashback_data.items():\n",
    "    \n",
    "    H2_percentage = key[0]\n",
    "    phi_FB = flashback_data[key][index_data][index_phi_meas][value[index_u_u_FB]]\n",
    "    u_u_FB = flashback_data[key][index_data][index_u_u_meas][value[index_u_u_FB]]\n",
    "\n",
    "    color = colors[H2_percentages.index(H2_percentage)]\n",
    "    marker = markers[H2_percentages.index(H2_percentage)]\n",
    "    ms = markersizes[H2_percentages.index(H2_percentage)]\n",
    "\n",
    "    ax1.plot(phi_FB, u_u_FB, mec='k', mfc=color, marker=marker, ms=ms, fillstyle=fill_style_steel, ls=\"None\", label=\"$H_{2}\\%$ = \" + str(H2_percentage) + \", steel\")\n",
    "    \n",
    "for key, value in flashback_data_quartz.items():\n",
    "\n",
    "    H2_percentage = key[0]\n",
    "    phi_FB = key[1]\n",
    "    u_u_FB = value[1]\n",
    "    \n",
    "    color = colors[H2_percentages.index(H2_percentage)]\n",
    "    marker = markers[H2_percentages.index(H2_percentage)]\n",
    "    ms = markersizes[H2_percentages.index(H2_percentage)]\n",
    "\n",
    "    ax1.plot(phi_FB, u_u_FB, mec='k', mfc=color, marker=marker, ms=ms, fillstyle=fill_style_quartz, ls=\"None\", label=\"$H_{2}\\%$ = \" + str(H2_percentage) + \", quartz\")\n",
    "\n",
    "# Turn on grid\n",
    "ax1.grid(visible=True, which='major', color='#666666', linestyle='--', axis='both')\n",
    "\n",
    "# Set legend without duplicating labels\n",
    "handles, labels = ax1.get_legend_handles_labels()\n",
    "by_label = dict(zip(labels, handles))\n",
    "ax1.legend(by_label.values(), by_label.keys(), bbox_to_anchor=(1, 1.03))\n",
    "\n",
    "# Set axis labels and limits\n",
    "ax1.set_xlabel('$\\phi$ [-]')\n",
    "ax1.set_ylabel('$U_{b,{FB}}$ [m/s]')\n",
    "ax1.set_xlim(0.25, 1.1)\n",
    "ax1.set_ylim(0, 10)\n",
    "\n",
    "fig1.savefig(\"combustor_flamesheet_cyl_flashback_map\" + '.svg', bbox_inches='tight', dpi=300) "
   ]
  },
  {
   "cell_type": "markdown",
   "metadata": {},
   "source": [
    "```{figure} ./images/combustor_flamesheet_cyl_flashback_map.svg\n",
    ":width: 50%\n",
    ":name: combustor_flamesheet_cyl_flashback_map\n",
    "\n",
    "Flashback propensity map of the scaled FlameSheet combustor equipped with a steel and a quartz liner.\n",
    "```"
   ]
  },
  {
   "cell_type": "markdown",
   "metadata": {},
   "source": [
    "## Flashback videos - Steel liner\n",
    "\n",
    "The videos of the experiments of the scaled FlameSheet combustor with the steel liner, corresponding to the data points in {numref}`combustor_flamesheet_cyl_flashback_map` are available at [this link](https://www.youtube.com/playlist?list=PLbbgmWHkWCcmy8Z_VtVSVZ3Nd00utcfHi)\n",
    "\n",
    "## Flashback videos - Quartz liner\n",
    "\n",
    "The videos of the experiments of the scaled FlameSheet combustor with the quartz liner, corresponding to the data points in {numref}`combustor_flamesheet_cyl_flashback_map` are available at [this link](https://www.youtube.com/playlist?list=PLbbgmWHkWCcmy8Z_VtVSVZ3Nd00utcfHi) and below.\n",
    "\n",
    "### $H_{2}\\%=50$\n"
   ]
  },
  {
   "cell_type": "markdown",
   "metadata": {},
   "source": [
    "#### $H_{2}\\%=50$, $\\phi=0.50$, test 1"
   ]
  },
  {
   "cell_type": "code",
   "execution_count": 2,
   "metadata": {
    "tags": [
     "remove-input"
    ]
   },
   "outputs": [
    {
     "data": {
      "image/jpeg": "[encoded data removed]",
      "text/html": [
       "\n",
       "        <iframe\n",
       "            width=\"720\"\n",
       "            height=\"480\"\n",
       "            src=\"https://www.youtube.com/embed/ebMpg2rx3QM\"\n",
       "            frameborder=\"0\"\n",
       "            allowfullscreen\n",
       "            \n",
       "        ></iframe>\n",
       "        "
      ],
      "text/plain": [
       "<IPython.lib.display.YouTubeVideo at 0x2c06ab8f700>"
      ]
     },
     "execution_count": 2,
     "metadata": {},
     "output_type": "execute_result"
    }
   ],
   "source": [
    "from IPython.display import YouTubeVideo\n",
    "YouTubeVideo('ebMpg2rx3QM', width=720, height=480) "
   ]
  },
  {
   "cell_type": "markdown",
   "metadata": {},
   "source": [
    "#### $H_{2}\\%=50$, $\\phi=0.60$, test 1"
   ]
  },
  {
   "cell_type": "code",
   "execution_count": 1,
   "metadata": {
    "tags": [
     "remove-input"
    ]
   },
   "outputs": [
    {
     "data": {
      "image/jpeg": "[encoded data removed]",
      "text/html": [
       "\n",
       "        <iframe\n",
       "            width=\"600\"\n",
       "            height=\"400\"\n",
       "            src=\"https://www.youtube.com/embed/bNPi9mI3vuU\"\n",
       "            frameborder=\"0\"\n",
       "            allowfullscreen\n",
       "            \n",
       "        ></iframe>\n",
       "        "
      ],
      "text/plain": [
       "<IPython.lib.display.YouTubeVideo at 0x2c06ab928e0>"
      ]
     },
     "execution_count": 1,
     "metadata": {},
     "output_type": "execute_result"
    }
   ],
   "source": [
    "from IPython.display import YouTubeVideo\n",
    "YouTubeVideo('DmpKahUNZxo', width=720, height=480) "
   ]
  },
  {
   "cell_type": "markdown",
   "metadata": {
    "tags": []
   },
   "source": [
    "#### $H_{2}\\%=50$, $\\phi=0.70$, test 13"
   ]
  },
  {
   "cell_type": "code",
   "execution_count": 3,
   "metadata": {
    "tags": [
     "remove-input"
    ]
   },
   "outputs": [
    {
     "data": {
      "image/jpeg": "[encoded data removed]",
      "text/html": [
       "\n",
       "        <iframe\n",
       "            width=\"600\"\n",
       "            height=\"400\"\n",
       "            src=\"https://www.youtube.com/embed/o6xXOpnBUIg\"\n",
       "            frameborder=\"0\"\n",
       "            allowfullscreen\n",
       "            \n",
       "        ></iframe>\n",
       "        "
      ],
      "text/plain": [
       "<IPython.lib.display.YouTubeVideo at 0x2c06ab88cd0>"
      ]
     },
     "execution_count": 3,
     "metadata": {},
     "output_type": "execute_result"
    }
   ],
   "source": [
    "from IPython.display import YouTubeVideo\n",
    "YouTubeVideo('cjtjPDJzuAQ', width=720, height=480) "
   ]
  },
  {
   "cell_type": "markdown",
   "metadata": {
    "tags": []
   },
   "source": [
    "#### $H_{2}\\%=50$, $\\phi=0.80$, test 1"
   ]
  },
  {
   "cell_type": "code",
   "execution_count": 3,
   "metadata": {
    "tags": [
     "remove-input"
    ]
   },
   "outputs": [
    {
     "data": {
      "image/jpeg": "[encoded data removed]",
      "text/html": [
       "\n",
       "        <iframe\n",
       "            width=\"600\"\n",
       "            height=\"400\"\n",
       "            src=\"https://www.youtube.com/embed/o6xXOpnBUIg\"\n",
       "            frameborder=\"0\"\n",
       "            allowfullscreen\n",
       "            \n",
       "        ></iframe>\n",
       "        "
      ],
      "text/plain": [
       "<IPython.lib.display.YouTubeVideo at 0x2c06ab88cd0>"
      ]
     },
     "execution_count": 3,
     "metadata": {},
     "output_type": "execute_result"
    }
   ],
   "source": [
    "from IPython.display import YouTubeVideo\n",
    "YouTubeVideo('rFcBJMK6avA', width=720, height=480) "
   ]
  },
  {
   "cell_type": "markdown",
   "metadata": {
    "tags": []
   },
   "source": [
    "#### $H_{2}\\%=50$, $\\phi=0.90$, test 1"
   ]
  },
  {
   "cell_type": "code",
   "execution_count": 4,
   "metadata": {
    "tags": [
     "remove-input"
    ]
   },
   "outputs": [
    {
     "data": {
      "image/jpeg": "[encoded data removed]",
      "text/html": [
       "\n",
       "        <iframe\n",
       "            width=\"720\"\n",
       "            height=\"480\"\n",
       "            src=\"https://www.youtube.com/embed/cjtjPDJzuAQ\"\n",
       "            frameborder=\"0\"\n",
       "            allowfullscreen\n",
       "            \n",
       "        ></iframe>\n",
       "        "
      ],
      "text/plain": [
       "<IPython.lib.display.YouTubeVideo at 0x2c06ab92eb0>"
      ]
     },
     "execution_count": 4,
     "metadata": {},
     "output_type": "execute_result"
    }
   ],
   "source": [
    "from IPython.display import YouTubeVideo\n",
    "YouTubeVideo('cjtjPDJzuAQ', width=720, height=480) "
   ]
  },
  {
   "cell_type": "markdown",
   "metadata": {
    "tags": []
   },
   "source": [
    "#### $H_{2}\\%=75$, $\\phi=0.50$, test 1"
   ]
  },
  {
   "cell_type": "code",
   "execution_count": 5,
   "metadata": {
    "tags": [
     "remove-input"
    ]
   },
   "outputs": [
    {
     "data": {
      "image/jpeg": "[encoded data removed]",
      "text/html": [
       "\n",
       "        <iframe\n",
       "            width=\"720\"\n",
       "            height=\"480\"\n",
       "            src=\"https://www.youtube.com/embed/zr5H5Ld2F-M\"\n",
       "            frameborder=\"0\"\n",
       "            allowfullscreen\n",
       "            \n",
       "        ></iframe>\n",
       "        "
      ],
      "text/plain": [
       "<IPython.lib.display.YouTubeVideo at 0x2c06ab9dd30>"
      ]
     },
     "execution_count": 5,
     "metadata": {},
     "output_type": "execute_result"
    }
   ],
   "source": [
    "from IPython.display import YouTubeVideo\n",
    "YouTubeVideo('zr5H5Ld2F-M', width=720, height=480) "
   ]
  },
  {
   "cell_type": "markdown",
   "metadata": {
    "tags": []
   },
   "source": [
    "#### $H_{2}\\%=75$, $\\phi=0.60$, test 4"
   ]
  },
  {
   "cell_type": "code",
   "execution_count": 6,
   "metadata": {
    "tags": [
     "remove-input"
    ]
   },
   "outputs": [
    {
     "data": {
      "image/jpeg": "[encoded data removed]",
      "text/html": [
       "\n",
       "        <iframe\n",
       "            width=\"720\"\n",
       "            height=\"480\"\n",
       "            src=\"https://www.youtube.com/embed/PPPF6aOkk3Y\"\n",
       "            frameborder=\"0\"\n",
       "            allowfullscreen\n",
       "            \n",
       "        ></iframe>\n",
       "        "
      ],
      "text/plain": [
       "<IPython.lib.display.YouTubeVideo at 0x2c06ab8f7c0>"
      ]
     },
     "execution_count": 6,
     "metadata": {},
     "output_type": "execute_result"
    }
   ],
   "source": [
    "from IPython.display import YouTubeVideo\n",
    "YouTubeVideo('PPPF6aOkk3Y', width=720, height=480) "
   ]
  },
  {
   "cell_type": "code",
   "execution_count": null,
   "metadata": {},
   "outputs": [],
   "source": []
  }
 ],
 "metadata": {
  "interpreter": {
   "hash": "3ad8b50326bbde5d145363c001ec670b52b52965857e587be05df2d5f3a1c694"
  },
  "kernelspec": {
   "display_name": "Python 3 (ipykernel)",
   "language": "python",
   "name": "python3"
  },
  "language_info": {
   "codemirror_mode": {
    "name": "ipython",
    "version": 3
   },
   "file_extension": ".py",
   "mimetype": "text/x-python",
   "name": "python",
   "nbconvert_exporter": "python",
   "pygments_lexer": "ipython3",
   "version": "3.9.10"
  }
 },
 "nbformat": 4,
 "nbformat_minor": 4
}
