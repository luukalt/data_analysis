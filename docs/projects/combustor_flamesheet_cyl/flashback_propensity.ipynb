{
 "cells": [
  {
   "cell_type": "markdown",
   "metadata": {},
   "source": [
    "# Flashback propensity "
   ]
  },
  {
   "cell_type": "markdown",
   "metadata": {},
   "source": [
    "## Flashback propensity map"
   ]
  },
  {
   "cell_type": "markdown",
   "metadata": {},
   "source": [
    "### Read flashback data"
   ]
  },
  {
   "cell_type": "code",
   "execution_count": 7,
   "metadata": {},
   "outputs": [
    {
     "ename": "FileNotFoundError",
     "evalue": "[Errno 2] No such file or directory: 'data/session_2020-07-30/H0_phi=0.6_u1=x_2020-07-30_test1.txt'",
     "output_type": "error",
     "traceback": [
      "\u001b[1;31m---------------------------------------------------------------------------\u001b[0m",
      "\u001b[1;31mFileNotFoundError\u001b[0m                         Traceback (most recent call last)",
      "\u001b[1;32m\\luukalt\\phd\\docs\\projects\\combustor_flamesheet_cyl\\flashback_propensity.ipynb Cell 4'\u001b[0m in \u001b[0;36m<cell line: 179>\u001b[1;34m()\u001b[0m\n\u001b[0;32m    <a href='vscode-notebook-cell://github/luukalt/phd/docs/projects/combustor_flamesheet_cyl/flashback_propensity.ipynb#ch0000044vscode-vfs?line=189'>190</a>\u001b[0m filename_A \u001b[39m=\u001b[39m data_dir \u001b[39m+\u001b[39m \u001b[39m'\u001b[39m\u001b[39mH\u001b[39m\u001b[39m'\u001b[39m \u001b[39m+\u001b[39m \u001b[39mstr\u001b[39m(hydrogen_percentage) \u001b[39m+\u001b[39m \u001b[39m'\u001b[39m\u001b[39m_phi=\u001b[39m\u001b[39m'\u001b[39m \u001b[39m+\u001b[39m \u001b[39mstr\u001b[39m(phi) \u001b[39m+\u001b[39m \u001b[39m'\u001b[39m\u001b[39m_u1=x_\u001b[39m\u001b[39m'\u001b[39m \u001b[39m+\u001b[39m \u001b[39mstr\u001b[39m(date) \u001b[39m+\u001b[39m \u001b[39m'\u001b[39m\u001b[39m_test\u001b[39m\u001b[39m'\u001b[39m \u001b[39m+\u001b[39m \u001b[39mstr\u001b[39m(test_nr) \u001b[39m+\u001b[39m \u001b[39m'\u001b[39m\u001b[39m.txt\u001b[39m\u001b[39m'\u001b[39m\n\u001b[0;32m    <a href='vscode-notebook-cell://github/luukalt/phd/docs/projects/combustor_flamesheet_cyl/flashback_propensity.ipynb#ch0000044vscode-vfs?line=191'>192</a>\u001b[0m \u001b[39m# Read data of experiment\u001b[39;00m\n\u001b[1;32m--> <a href='vscode-notebook-cell://github/luukalt/phd/docs/projects/combustor_flamesheet_cyl/flashback_propensity.ipynb#ch0000044vscode-vfs?line=192'>193</a>\u001b[0m data_A \u001b[39m=\u001b[39m pd\u001b[39m.\u001b[39;49mread_csv(filename_A, header\u001b[39m=\u001b[39;49m\u001b[39mNone\u001b[39;49;00m)\n\u001b[0;32m    <a href='vscode-notebook-cell://github/luukalt/phd/docs/projects/combustor_flamesheet_cyl/flashback_propensity.ipynb#ch0000044vscode-vfs?line=193'>194</a>\u001b[0m flashback_data[key]\u001b[39m.\u001b[39mappend(data_A)\n",
      "File \u001b[1;32mD:\\Users\\laaltenburg\\Anaconda3\\envs\\cantera_env\\lib\\site-packages\\pandas\\util\\_decorators.py:311\u001b[0m, in \u001b[0;36mdeprecate_nonkeyword_arguments.<locals>.decorate.<locals>.wrapper\u001b[1;34m(*args, **kwargs)\u001b[0m\n\u001b[0;32m    <a href='file:///d%3A/Users/laaltenburg/Anaconda3/envs/cantera_env/lib/site-packages/pandas/util/_decorators.py?line=304'>305</a>\u001b[0m \u001b[39mif\u001b[39;00m \u001b[39mlen\u001b[39m(args) \u001b[39m>\u001b[39m num_allow_args:\n\u001b[0;32m    <a href='file:///d%3A/Users/laaltenburg/Anaconda3/envs/cantera_env/lib/site-packages/pandas/util/_decorators.py?line=305'>306</a>\u001b[0m     warnings\u001b[39m.\u001b[39mwarn(\n\u001b[0;32m    <a href='file:///d%3A/Users/laaltenburg/Anaconda3/envs/cantera_env/lib/site-packages/pandas/util/_decorators.py?line=306'>307</a>\u001b[0m         msg\u001b[39m.\u001b[39mformat(arguments\u001b[39m=\u001b[39marguments),\n\u001b[0;32m    <a href='file:///d%3A/Users/laaltenburg/Anaconda3/envs/cantera_env/lib/site-packages/pandas/util/_decorators.py?line=307'>308</a>\u001b[0m         \u001b[39mFutureWarning\u001b[39;00m,\n\u001b[0;32m    <a href='file:///d%3A/Users/laaltenburg/Anaconda3/envs/cantera_env/lib/site-packages/pandas/util/_decorators.py?line=308'>309</a>\u001b[0m         stacklevel\u001b[39m=\u001b[39mstacklevel,\n\u001b[0;32m    <a href='file:///d%3A/Users/laaltenburg/Anaconda3/envs/cantera_env/lib/site-packages/pandas/util/_decorators.py?line=309'>310</a>\u001b[0m     )\n\u001b[1;32m--> <a href='file:///d%3A/Users/laaltenburg/Anaconda3/envs/cantera_env/lib/site-packages/pandas/util/_decorators.py?line=310'>311</a>\u001b[0m \u001b[39mreturn\u001b[39;00m func(\u001b[39m*\u001b[39margs, \u001b[39m*\u001b[39m\u001b[39m*\u001b[39mkwargs)\n",
      "File \u001b[1;32mD:\\Users\\laaltenburg\\Anaconda3\\envs\\cantera_env\\lib\\site-packages\\pandas\\io\\parsers\\readers.py:680\u001b[0m, in \u001b[0;36mread_csv\u001b[1;34m(filepath_or_buffer, sep, delimiter, header, names, index_col, usecols, squeeze, prefix, mangle_dupe_cols, dtype, engine, converters, true_values, false_values, skipinitialspace, skiprows, skipfooter, nrows, na_values, keep_default_na, na_filter, verbose, skip_blank_lines, parse_dates, infer_datetime_format, keep_date_col, date_parser, dayfirst, cache_dates, iterator, chunksize, compression, thousands, decimal, lineterminator, quotechar, quoting, doublequote, escapechar, comment, encoding, encoding_errors, dialect, error_bad_lines, warn_bad_lines, on_bad_lines, delim_whitespace, low_memory, memory_map, float_precision, storage_options)\u001b[0m\n\u001b[0;32m    <a href='file:///d%3A/Users/laaltenburg/Anaconda3/envs/cantera_env/lib/site-packages/pandas/io/parsers/readers.py?line=664'>665</a>\u001b[0m kwds_defaults \u001b[39m=\u001b[39m _refine_defaults_read(\n\u001b[0;32m    <a href='file:///d%3A/Users/laaltenburg/Anaconda3/envs/cantera_env/lib/site-packages/pandas/io/parsers/readers.py?line=665'>666</a>\u001b[0m     dialect,\n\u001b[0;32m    <a href='file:///d%3A/Users/laaltenburg/Anaconda3/envs/cantera_env/lib/site-packages/pandas/io/parsers/readers.py?line=666'>667</a>\u001b[0m     delimiter,\n\u001b[1;32m   (...)\u001b[0m\n\u001b[0;32m    <a href='file:///d%3A/Users/laaltenburg/Anaconda3/envs/cantera_env/lib/site-packages/pandas/io/parsers/readers.py?line=675'>676</a>\u001b[0m     defaults\u001b[39m=\u001b[39m{\u001b[39m\"\u001b[39m\u001b[39mdelimiter\u001b[39m\u001b[39m\"\u001b[39m: \u001b[39m\"\u001b[39m\u001b[39m,\u001b[39m\u001b[39m\"\u001b[39m},\n\u001b[0;32m    <a href='file:///d%3A/Users/laaltenburg/Anaconda3/envs/cantera_env/lib/site-packages/pandas/io/parsers/readers.py?line=676'>677</a>\u001b[0m )\n\u001b[0;32m    <a href='file:///d%3A/Users/laaltenburg/Anaconda3/envs/cantera_env/lib/site-packages/pandas/io/parsers/readers.py?line=677'>678</a>\u001b[0m kwds\u001b[39m.\u001b[39mupdate(kwds_defaults)\n\u001b[1;32m--> <a href='file:///d%3A/Users/laaltenburg/Anaconda3/envs/cantera_env/lib/site-packages/pandas/io/parsers/readers.py?line=679'>680</a>\u001b[0m \u001b[39mreturn\u001b[39;00m _read(filepath_or_buffer, kwds)\n",
      "File \u001b[1;32mD:\\Users\\laaltenburg\\Anaconda3\\envs\\cantera_env\\lib\\site-packages\\pandas\\io\\parsers\\readers.py:575\u001b[0m, in \u001b[0;36m_read\u001b[1;34m(filepath_or_buffer, kwds)\u001b[0m\n\u001b[0;32m    <a href='file:///d%3A/Users/laaltenburg/Anaconda3/envs/cantera_env/lib/site-packages/pandas/io/parsers/readers.py?line=571'>572</a>\u001b[0m _validate_names(kwds\u001b[39m.\u001b[39mget(\u001b[39m\"\u001b[39m\u001b[39mnames\u001b[39m\u001b[39m\"\u001b[39m, \u001b[39mNone\u001b[39;00m))\n\u001b[0;32m    <a href='file:///d%3A/Users/laaltenburg/Anaconda3/envs/cantera_env/lib/site-packages/pandas/io/parsers/readers.py?line=573'>574</a>\u001b[0m \u001b[39m# Create the parser.\u001b[39;00m\n\u001b[1;32m--> <a href='file:///d%3A/Users/laaltenburg/Anaconda3/envs/cantera_env/lib/site-packages/pandas/io/parsers/readers.py?line=574'>575</a>\u001b[0m parser \u001b[39m=\u001b[39m TextFileReader(filepath_or_buffer, \u001b[39m*\u001b[39m\u001b[39m*\u001b[39mkwds)\n\u001b[0;32m    <a href='file:///d%3A/Users/laaltenburg/Anaconda3/envs/cantera_env/lib/site-packages/pandas/io/parsers/readers.py?line=576'>577</a>\u001b[0m \u001b[39mif\u001b[39;00m chunksize \u001b[39mor\u001b[39;00m iterator:\n\u001b[0;32m    <a href='file:///d%3A/Users/laaltenburg/Anaconda3/envs/cantera_env/lib/site-packages/pandas/io/parsers/readers.py?line=577'>578</a>\u001b[0m     \u001b[39mreturn\u001b[39;00m parser\n",
      "File \u001b[1;32mD:\\Users\\laaltenburg\\Anaconda3\\envs\\cantera_env\\lib\\site-packages\\pandas\\io\\parsers\\readers.py:933\u001b[0m, in \u001b[0;36mTextFileReader.__init__\u001b[1;34m(self, f, engine, **kwds)\u001b[0m\n\u001b[0;32m    <a href='file:///d%3A/Users/laaltenburg/Anaconda3/envs/cantera_env/lib/site-packages/pandas/io/parsers/readers.py?line=929'>930</a>\u001b[0m     \u001b[39mself\u001b[39m\u001b[39m.\u001b[39moptions[\u001b[39m\"\u001b[39m\u001b[39mhas_index_names\u001b[39m\u001b[39m\"\u001b[39m] \u001b[39m=\u001b[39m kwds[\u001b[39m\"\u001b[39m\u001b[39mhas_index_names\u001b[39m\u001b[39m\"\u001b[39m]\n\u001b[0;32m    <a href='file:///d%3A/Users/laaltenburg/Anaconda3/envs/cantera_env/lib/site-packages/pandas/io/parsers/readers.py?line=931'>932</a>\u001b[0m \u001b[39mself\u001b[39m\u001b[39m.\u001b[39mhandles: IOHandles \u001b[39m|\u001b[39m \u001b[39mNone\u001b[39;00m \u001b[39m=\u001b[39m \u001b[39mNone\u001b[39;00m\n\u001b[1;32m--> <a href='file:///d%3A/Users/laaltenburg/Anaconda3/envs/cantera_env/lib/site-packages/pandas/io/parsers/readers.py?line=932'>933</a>\u001b[0m \u001b[39mself\u001b[39m\u001b[39m.\u001b[39m_engine \u001b[39m=\u001b[39m \u001b[39mself\u001b[39;49m\u001b[39m.\u001b[39;49m_make_engine(f, \u001b[39mself\u001b[39;49m\u001b[39m.\u001b[39;49mengine)\n",
      "File \u001b[1;32mD:\\Users\\laaltenburg\\Anaconda3\\envs\\cantera_env\\lib\\site-packages\\pandas\\io\\parsers\\readers.py:1217\u001b[0m, in \u001b[0;36mTextFileReader._make_engine\u001b[1;34m(self, f, engine)\u001b[0m\n\u001b[0;32m   <a href='file:///d%3A/Users/laaltenburg/Anaconda3/envs/cantera_env/lib/site-packages/pandas/io/parsers/readers.py?line=1212'>1213</a>\u001b[0m     mode \u001b[39m=\u001b[39m \u001b[39m\"\u001b[39m\u001b[39mrb\u001b[39m\u001b[39m\"\u001b[39m\n\u001b[0;32m   <a href='file:///d%3A/Users/laaltenburg/Anaconda3/envs/cantera_env/lib/site-packages/pandas/io/parsers/readers.py?line=1213'>1214</a>\u001b[0m \u001b[39m# error: No overload variant of \"get_handle\" matches argument types\u001b[39;00m\n\u001b[0;32m   <a href='file:///d%3A/Users/laaltenburg/Anaconda3/envs/cantera_env/lib/site-packages/pandas/io/parsers/readers.py?line=1214'>1215</a>\u001b[0m \u001b[39m# \"Union[str, PathLike[str], ReadCsvBuffer[bytes], ReadCsvBuffer[str]]\"\u001b[39;00m\n\u001b[0;32m   <a href='file:///d%3A/Users/laaltenburg/Anaconda3/envs/cantera_env/lib/site-packages/pandas/io/parsers/readers.py?line=1215'>1216</a>\u001b[0m \u001b[39m# , \"str\", \"bool\", \"Any\", \"Any\", \"Any\", \"Any\", \"Any\"\u001b[39;00m\n\u001b[1;32m-> <a href='file:///d%3A/Users/laaltenburg/Anaconda3/envs/cantera_env/lib/site-packages/pandas/io/parsers/readers.py?line=1216'>1217</a>\u001b[0m \u001b[39mself\u001b[39m\u001b[39m.\u001b[39mhandles \u001b[39m=\u001b[39m get_handle(  \u001b[39m# type: ignore[call-overload]\u001b[39;49;00m\n\u001b[0;32m   <a href='file:///d%3A/Users/laaltenburg/Anaconda3/envs/cantera_env/lib/site-packages/pandas/io/parsers/readers.py?line=1217'>1218</a>\u001b[0m     f,\n\u001b[0;32m   <a href='file:///d%3A/Users/laaltenburg/Anaconda3/envs/cantera_env/lib/site-packages/pandas/io/parsers/readers.py?line=1218'>1219</a>\u001b[0m     mode,\n\u001b[0;32m   <a href='file:///d%3A/Users/laaltenburg/Anaconda3/envs/cantera_env/lib/site-packages/pandas/io/parsers/readers.py?line=1219'>1220</a>\u001b[0m     encoding\u001b[39m=\u001b[39;49m\u001b[39mself\u001b[39;49m\u001b[39m.\u001b[39;49moptions\u001b[39m.\u001b[39;49mget(\u001b[39m\"\u001b[39;49m\u001b[39mencoding\u001b[39;49m\u001b[39m\"\u001b[39;49m, \u001b[39mNone\u001b[39;49;00m),\n\u001b[0;32m   <a href='file:///d%3A/Users/laaltenburg/Anaconda3/envs/cantera_env/lib/site-packages/pandas/io/parsers/readers.py?line=1220'>1221</a>\u001b[0m     compression\u001b[39m=\u001b[39;49m\u001b[39mself\u001b[39;49m\u001b[39m.\u001b[39;49moptions\u001b[39m.\u001b[39;49mget(\u001b[39m\"\u001b[39;49m\u001b[39mcompression\u001b[39;49m\u001b[39m\"\u001b[39;49m, \u001b[39mNone\u001b[39;49;00m),\n\u001b[0;32m   <a href='file:///d%3A/Users/laaltenburg/Anaconda3/envs/cantera_env/lib/site-packages/pandas/io/parsers/readers.py?line=1221'>1222</a>\u001b[0m     memory_map\u001b[39m=\u001b[39;49m\u001b[39mself\u001b[39;49m\u001b[39m.\u001b[39;49moptions\u001b[39m.\u001b[39;49mget(\u001b[39m\"\u001b[39;49m\u001b[39mmemory_map\u001b[39;49m\u001b[39m\"\u001b[39;49m, \u001b[39mFalse\u001b[39;49;00m),\n\u001b[0;32m   <a href='file:///d%3A/Users/laaltenburg/Anaconda3/envs/cantera_env/lib/site-packages/pandas/io/parsers/readers.py?line=1222'>1223</a>\u001b[0m     is_text\u001b[39m=\u001b[39;49mis_text,\n\u001b[0;32m   <a href='file:///d%3A/Users/laaltenburg/Anaconda3/envs/cantera_env/lib/site-packages/pandas/io/parsers/readers.py?line=1223'>1224</a>\u001b[0m     errors\u001b[39m=\u001b[39;49m\u001b[39mself\u001b[39;49m\u001b[39m.\u001b[39;49moptions\u001b[39m.\u001b[39;49mget(\u001b[39m\"\u001b[39;49m\u001b[39mencoding_errors\u001b[39;49m\u001b[39m\"\u001b[39;49m, \u001b[39m\"\u001b[39;49m\u001b[39mstrict\u001b[39;49m\u001b[39m\"\u001b[39;49m),\n\u001b[0;32m   <a href='file:///d%3A/Users/laaltenburg/Anaconda3/envs/cantera_env/lib/site-packages/pandas/io/parsers/readers.py?line=1224'>1225</a>\u001b[0m     storage_options\u001b[39m=\u001b[39;49m\u001b[39mself\u001b[39;49m\u001b[39m.\u001b[39;49moptions\u001b[39m.\u001b[39;49mget(\u001b[39m\"\u001b[39;49m\u001b[39mstorage_options\u001b[39;49m\u001b[39m\"\u001b[39;49m, \u001b[39mNone\u001b[39;49;00m),\n\u001b[0;32m   <a href='file:///d%3A/Users/laaltenburg/Anaconda3/envs/cantera_env/lib/site-packages/pandas/io/parsers/readers.py?line=1225'>1226</a>\u001b[0m )\n\u001b[0;32m   <a href='file:///d%3A/Users/laaltenburg/Anaconda3/envs/cantera_env/lib/site-packages/pandas/io/parsers/readers.py?line=1226'>1227</a>\u001b[0m \u001b[39massert\u001b[39;00m \u001b[39mself\u001b[39m\u001b[39m.\u001b[39mhandles \u001b[39mis\u001b[39;00m \u001b[39mnot\u001b[39;00m \u001b[39mNone\u001b[39;00m\n\u001b[0;32m   <a href='file:///d%3A/Users/laaltenburg/Anaconda3/envs/cantera_env/lib/site-packages/pandas/io/parsers/readers.py?line=1227'>1228</a>\u001b[0m f \u001b[39m=\u001b[39m \u001b[39mself\u001b[39m\u001b[39m.\u001b[39mhandles\u001b[39m.\u001b[39mhandle\n",
      "File \u001b[1;32mD:\\Users\\laaltenburg\\Anaconda3\\envs\\cantera_env\\lib\\site-packages\\pandas\\io\\common.py:789\u001b[0m, in \u001b[0;36mget_handle\u001b[1;34m(path_or_buf, mode, encoding, compression, memory_map, is_text, errors, storage_options)\u001b[0m\n\u001b[0;32m    <a href='file:///d%3A/Users/laaltenburg/Anaconda3/envs/cantera_env/lib/site-packages/pandas/io/common.py?line=783'>784</a>\u001b[0m \u001b[39melif\u001b[39;00m \u001b[39misinstance\u001b[39m(handle, \u001b[39mstr\u001b[39m):\n\u001b[0;32m    <a href='file:///d%3A/Users/laaltenburg/Anaconda3/envs/cantera_env/lib/site-packages/pandas/io/common.py?line=784'>785</a>\u001b[0m     \u001b[39m# Check whether the filename is to be opened in binary mode.\u001b[39;00m\n\u001b[0;32m    <a href='file:///d%3A/Users/laaltenburg/Anaconda3/envs/cantera_env/lib/site-packages/pandas/io/common.py?line=785'>786</a>\u001b[0m     \u001b[39m# Binary mode does not support 'encoding' and 'newline'.\u001b[39;00m\n\u001b[0;32m    <a href='file:///d%3A/Users/laaltenburg/Anaconda3/envs/cantera_env/lib/site-packages/pandas/io/common.py?line=786'>787</a>\u001b[0m     \u001b[39mif\u001b[39;00m ioargs\u001b[39m.\u001b[39mencoding \u001b[39mand\u001b[39;00m \u001b[39m\"\u001b[39m\u001b[39mb\u001b[39m\u001b[39m\"\u001b[39m \u001b[39mnot\u001b[39;00m \u001b[39min\u001b[39;00m ioargs\u001b[39m.\u001b[39mmode:\n\u001b[0;32m    <a href='file:///d%3A/Users/laaltenburg/Anaconda3/envs/cantera_env/lib/site-packages/pandas/io/common.py?line=787'>788</a>\u001b[0m         \u001b[39m# Encoding\u001b[39;00m\n\u001b[1;32m--> <a href='file:///d%3A/Users/laaltenburg/Anaconda3/envs/cantera_env/lib/site-packages/pandas/io/common.py?line=788'>789</a>\u001b[0m         handle \u001b[39m=\u001b[39m \u001b[39mopen\u001b[39;49m(\n\u001b[0;32m    <a href='file:///d%3A/Users/laaltenburg/Anaconda3/envs/cantera_env/lib/site-packages/pandas/io/common.py?line=789'>790</a>\u001b[0m             handle,\n\u001b[0;32m    <a href='file:///d%3A/Users/laaltenburg/Anaconda3/envs/cantera_env/lib/site-packages/pandas/io/common.py?line=790'>791</a>\u001b[0m             ioargs\u001b[39m.\u001b[39;49mmode,\n\u001b[0;32m    <a href='file:///d%3A/Users/laaltenburg/Anaconda3/envs/cantera_env/lib/site-packages/pandas/io/common.py?line=791'>792</a>\u001b[0m             encoding\u001b[39m=\u001b[39;49mioargs\u001b[39m.\u001b[39;49mencoding,\n\u001b[0;32m    <a href='file:///d%3A/Users/laaltenburg/Anaconda3/envs/cantera_env/lib/site-packages/pandas/io/common.py?line=792'>793</a>\u001b[0m             errors\u001b[39m=\u001b[39;49merrors,\n\u001b[0;32m    <a href='file:///d%3A/Users/laaltenburg/Anaconda3/envs/cantera_env/lib/site-packages/pandas/io/common.py?line=793'>794</a>\u001b[0m             newline\u001b[39m=\u001b[39;49m\u001b[39m\"\u001b[39;49m\u001b[39m\"\u001b[39;49m,\n\u001b[0;32m    <a href='file:///d%3A/Users/laaltenburg/Anaconda3/envs/cantera_env/lib/site-packages/pandas/io/common.py?line=794'>795</a>\u001b[0m         )\n\u001b[0;32m    <a href='file:///d%3A/Users/laaltenburg/Anaconda3/envs/cantera_env/lib/site-packages/pandas/io/common.py?line=795'>796</a>\u001b[0m     \u001b[39melse\u001b[39;00m:\n\u001b[0;32m    <a href='file:///d%3A/Users/laaltenburg/Anaconda3/envs/cantera_env/lib/site-packages/pandas/io/common.py?line=796'>797</a>\u001b[0m         \u001b[39m# Binary mode\u001b[39;00m\n\u001b[0;32m    <a href='file:///d%3A/Users/laaltenburg/Anaconda3/envs/cantera_env/lib/site-packages/pandas/io/common.py?line=797'>798</a>\u001b[0m         handle \u001b[39m=\u001b[39m \u001b[39mopen\u001b[39m(handle, ioargs\u001b[39m.\u001b[39mmode)\n",
      "\u001b[1;31mFileNotFoundError\u001b[0m: [Errno 2] No such file or directory: 'data/session_2020-07-30/H0_phi=0.6_u1=x_2020-07-30_test1.txt'"
     ]
    }
   ],
   "source": [
    "import numpy as np\n",
    "import matplotlib.pyplot as plt\n",
    "from matplotlib.patches import Patch\n",
    "from matplotlib.lines import Line2D\n",
    "import pandas as pd\n",
    "\n",
    "#%% START\n",
    "\n",
    "# Close all windows\n",
    "plt.close('all')\n",
    "\n",
    "#%% COLUMN INDICES OF DATA FILE\n",
    "index_time = 0          # 0. \tTime [hh:mm:ss.xxx]\n",
    "index_T_u = 1           # 1. \tAmbient Temperature T_u [K]\n",
    "index_p_u = 2           # 2. \tAmbient Pressure p_u [Pa]\n",
    "index_f_H2_set = 3      # 3.\tVolume fraction of hydrogen of total fuel [-]\n",
    "index_f_CH4DNG_set = 4  # 4. \tVolume fraction of methane in DNG [-]\n",
    "index_f_C2H6DNG_set = 5 # 5. \tVolume fraction of ethane in DNG [-]\n",
    "index_f_N2DNG_set = 6   # 6. \tVolume fraction of nitrogen in DNG [-]\n",
    "index_D1 = 7            # 7. \tD1 [mm]\n",
    "index_D2 = 8            # 8. \tD2 [mm]\n",
    "index_H_liner = 9       # 9. \tH_liner [mm]\n",
    "index_phi_set = 10      # 10.\tSet equivalence ratio [-]\n",
    "index_u_u_set = 11      # 11.\tSet velocity u1 [m/s]\t\n",
    "index_phi_meas = 12     # 12.\tMeasured equivalence ratio [-]\n",
    "index_u_u_meas = 13     # 13.\tMeasured velocity u1 [m/s]\n",
    "index_f_H2_meas = 14     # 14.\tMeasured volume fraction of hydrogen\n",
    "index_Q_air1_nL_per_min_meas = 15   # 15. \tMeasured Air flow 1 [ln/min]\n",
    "index_Q_air2_nL_per_min_meas  = 16  # 16. \tMeasured Air flow 2 [ln/min]\n",
    "index_Q_DNG_nL_per_min_meas  = 17   # 17. \tMeasured DNG flow [ln/min]\n",
    "index_Q_H2_nL_per_min_meas  = 18    # 18. \tMeasured Hydrogen flow [ln/min]\n",
    "index_m_mix_dot_meas  = 19          # 19.\tMeasured total mass flow of unburnt mixture [kg/s]\n",
    "index_m_air1_dot_meas = 20          # 20.\tMeasured air mass flow of unburnt mixture [kg/s]\n",
    "index_m_fuel_dot_meas = 21          # 21.\tMeasured fuel mass flow of unburnt mixture [kg/s]\n",
    "index_P_thermal_meas = 22           # 22.\tMeasured thermal power output\n",
    "index_rho_mix_meas = 23             # 23.\tMeasured density of unburnt mixture [kg/m^3]\n",
    "index_LHV_H2= 24                    # 24.\tLHV hydrogen [MW]\n",
    "index_LHV_CH4 = 25                  # 25.\tLHV methane [MW]\n",
    "index_LHV_C2H6 = 26                 # 26. \tLHV ethane [MW]\n",
    "\n",
    "variables_list = ['time', 'T_u_ambient', 'p_u_ambient', 'x_H2_set', 'x_CH4_set', 'x_C2H6_set', 'x_N2_set', 'D_inner_set', 'D_outer_set', 'H_liner_meas', 'phi_set', 'u_u_set',\n",
    "                  'phi_meas', 'u_u_meas', 'x_H2_meas', 'Q_a1_meas', 'Q_a2_meas', 'Q_DNG_meas', 'Q_H2_meas',\n",
    "                  'm_mix_dot_meas', 'm_a_dot_meas', 'm_f_dot_meas', 'power_meas', 'rho_u_meas', 'LHV_H2', 'LHV_CH4', 'LHV_C2H6']\n",
    "        \n",
    "\n",
    "# Important indices regarding flashback\n",
    "index_u_u_design = 0\n",
    "index_u_u_first_sign_FB = 1 \n",
    "index_u_u_FB = 2\n",
    "index_data = -1\n",
    "\n",
    "#%% CONSTANTS\n",
    "# T_STP = 273.15 K (= 0 C)\n",
    "# p_STP = 101325 Pa\n",
    "# R = 8.314 Pa*m^3/(K*mol)\n",
    "\n",
    "#%% FORMULAS LABVIEW CONTROL PANEL\n",
    "# Standard conditions correction:\n",
    "# STP = (T_u/T_STP)*(p_STP/p_u)\n",
    "\n",
    "# Molar volume:\n",
    "# V_m = V/n = R*T_u/p_u\n",
    "\n",
    "#%% LIBRARY OF EXPERIMENTAL DATA\n",
    "\n",
    "# Initialize data library\n",
    "flashback_data = {}\n",
    "#  Dictionary with four keys: \n",
    "# - key1: hydrogen content\n",
    "# - key2: phi\n",
    "# - key3: test nr\n",
    "# - key4: date\n",
    "#\n",
    "# and 3 values:\n",
    "# - value1 = frame index design point\n",
    "# - value2 = frame index first sign of flashback point\n",
    "# - value3 = frame index flashback point\n",
    "\n",
    "flashback_data_quartz = {}\n",
    "#  Dictionary with four keys: \n",
    "# - key1: hydrogen content\n",
    "# - key2: phi\n",
    "# - key3: test nr\n",
    "# - key4: date\n",
    "#\n",
    "# and 3 values:\n",
    "# - value1 = frame index flashback point\n",
    "# - value2 = flashback velocity in m.s^-1\n",
    "\n",
    "# Fill library with experimental data\n",
    "\n",
    "############ Steel liner set 1 ############\n",
    "# H0\n",
    "flashback_data[(0, 0.60, 1, '2020-07-30')] = [285, None,  475]\n",
    "flashback_data[(0, 0.70, 1, '2020-07-28')] = [935 , None, 3670]\n",
    "flashback_data[(0, 0.70, 2, '2020-07-30')] = [431, None, 1495]\n",
    "flashback_data[(0, 0.80, 1, '2020-07-28')] = [242, 890, 2037]\n",
    "flashback_data[(0, 0.80, 2, '2020-07-30')] = [320, None, 1068]\n",
    "flashback_data[(0, 0.90, 1, '2020-07-28')] = [540, 1050, 2510]\n",
    "flashback_data[(0, 0.90, 2, '2020-07-30')] = [170, 447, 1175]\n",
    "flashback_data[(0, 1.00, 1, '2020-07-28')] = [660, 965, 1615]\n",
    "flashback_data[(0, 1.00, 2, '2020-07-30')] = [420, None, 1394]\n",
    "\n",
    "# H25\n",
    "flashback_data[(25, 0.50, 1, '2020-07-29')] = [None, None, 280]\n",
    "flashback_data[(25, 0.50, 2, '2020-07-30')] = [None, None, 372]\n",
    "flashback_data[(25, 0.60, 1, '2020-07-29')] = [372, None, 1092]\n",
    "flashback_data[(25, 0.60, 2, '2020-07-30')] = [205, None, 1321]\n",
    "flashback_data[(25, 0.70, 1, '2020-07-29')] = [340, None, 642]\n",
    "flashback_data[(25, 0.70, 2, '2020-07-30')] = [240, None, 464]\n",
    "flashback_data[(25, 0.80, 1, '2020-07-29')] = [445, 1167, 1427]\n",
    "flashback_data[(25, 0.80, 2, '2020-07-30')] = [230, None, 595]\n",
    "flashback_data[(25, 0.90, 1, '2020-07-29')] = [770, 1442, 2179]\n",
    "flashback_data[(25, 0.90, 2, '2020-07-30')] = [327, 770, 1499]\n",
    "flashback_data[(25, 1.00, 1, '2020-07-29')] = [669, 1560, 2408]\n",
    "\n",
    "# H50\n",
    "flashback_data[(50, 0.50, 1, '2020-07-28')] = [585, 815, 1425]\n",
    "flashback_data[(50, 0.50, 2, '2020-07-30')] = [600, 1210, 1610]\n",
    "flashback_data[(50, 0.60, 1, '2020-07-29')] = [760, None, 1402]\n",
    "flashback_data[(50, 0.60, 2, '2020-07-30')] = [510, None, 957]\n",
    "flashback_data[(50, 0.70, 1, '2020-07-28')] = [358, 1340, 2036]\n",
    "flashback_data[(50, 0.70, 2, '2020-07-30')] = [280, 1025, 1432]\n",
    "flashback_data[(50, 0.80, 1, '2020-07-29')] = [30, 470, 1911]\n",
    "flashback_data[(50, 0.80, 2, '2020-07-30')] = [90, 525, 1001]\n",
    "flashback_data[(50, 0.90, 1, '2020-07-28')] = [290, 1260, 2805]\n",
    "flashback_data[(50, 0.90, 2, '2020-07-30')] = [360, 720, 1485]\n",
    "\n",
    "# H75\n",
    "flashback_data[(75, 0.35, 1, '2020-07-29')] = [1770, None, 2025]\n",
    "flashback_data[(75, 0.35, 2, '2020-07-30')] = [819, None, 1305]\n",
    "flashback_data[(75, 0.35, 3, '2020-07-31')] = [562, None, 951]\n",
    "flashback_data[(75, 0.40, 1, '2020-07-29')] = [1600, 2222, 2640]\n",
    "flashback_data[(75, 0.40, 2, '2020-07-30')] = [977, 1560, 1697]\n",
    "flashback_data[(75, 0.40, 3, '2020-07-31')] = [369, 730, 1136]\n",
    "flashback_data[(75, 0.50, 1, '2020-07-29')] = [64, 474, 1139]\n",
    "flashback_data[(75, 0.50, 2, '2020-07-30')] = [95, 798, 1355]\n",
    "flashback_data[(75, 0.50, 3, '2020-07-31')] = [None, 103, 788]\n",
    "flashback_data[(75, 0.60, 1, '2020-07-29')] = [None, 1110, 2405]\n",
    "flashback_data[(75, 0.60, 2, '2020-07-30')] = [None, 450, 1253]\n",
    "flashback_data[(75, 0.60, 3, '2020-07-31')] = [None, 89, 435]\n",
    "flashback_data[(75, 0.70, 1, '2020-07-29')] = [None, None, 82]\n",
    "flashback_data[(75, 0.70, 2, '2020-07-29')] = [None, None, 101]\n",
    "\n",
    "# H100\n",
    "# flashback_data[('H100', '0.30', '1', '2020-07-28')] = [None, None, 3198]\n",
    "flashback_data[(100, 0.30, 2, '2020-07-28')] = [None, None, 700]\n",
    "flashback_data[(100, 0.30, 3, '2020-07-30')] = [None, None, 762]\n",
    "flashback_data[(100, 0.30, 4, '2020-07-31')] = [None, None, 1230]\n",
    "flashback_data[(100, 0.35, 1, '2020-07-29')] = [None, None, 1385]\n",
    "flashback_data[(100, 0.35, 2, '2020-07-30')] = [None, None, 520]\n",
    "flashback_data[(100, 0.35, 3, '2020-07-31')] = [None, None, 1188]\n",
    "flashback_data[(100, 0.40, 1, '2020-07-28')] = [None, 2309, 2786] \n",
    "flashback_data[(100, 0.40, 2, '2020-07-30')] = [None, None, 2003]\n",
    "flashback_data[(100, 0.40, 3, '2020-07-30')] = [None, 530, 1015]\n",
    "flashback_data[(100, 0.40, 4, '2020-07-31')] = [None, None, 1236]\n",
    "flashback_data[(100, 0.50, 1, '2020-07-28')] = [None, None, 896, 99]\n",
    "flashback_data[(100, 0.50, 2, '2020-07-28')] = [None, None, 1942, 99]\n",
    "\n",
    "############ Quartz liner set 1 ############\n",
    "\n",
    "# H50\n",
    "flashback_data_quartz[(50, 0.50, 1, '2020-12-08')] = [14085, 0.996]\n",
    "flashback_data_quartz[(50, 0.60, 1, '2020-12-08')] = [7415, 1.982]\n",
    "flashback_data_quartz[(50, 0.70, 13, '2020-12-08')] = [6712, 2.931]\n",
    "flashback_data_quartz[(50, 0.80, 1, '2020-12-08')] = [10434, 3.947]\n",
    "flashback_data_quartz[(50, 0.90, 1, '2020-12-08')] = [12708, 4.554]\n",
    "\n",
    "# H75\n",
    "flashback_data_quartz[(75, 0.50, 1, '2020-12-08')] = [12461, 2.701]\n",
    "flashback_data_quartz[(75, 0.60, 4, '2020-12-08')] = [13777, 4.998]\n",
    "\n",
    "# H100\n",
    "# flashback_data_quartz[(100, 0.30, 2, '2020-12-09')] = [12483]\n",
    "# flashback_data_quartz[(100, 0.35, 1, '2020-12-09')] = [10055]\n",
    "# flashback_data_quartz[(100, 0.40, 1, '2020-12-09')] = [6552]\n",
    "\n",
    "\n",
    "for key, value in flashback_data.items():\n",
    "    \n",
    "    hydrogen_percentage = key[0]\n",
    "    phi = key[1]\n",
    "    test_nr = key[2]\n",
    "    date = key[3]\n",
    "    \n",
    "    # Directory of data\n",
    "    data_dir = 'data/session_' + str(date) + '/' \n",
    "    \n",
    "    # A: File name of all data (except temperature)\n",
    "    filename_A = data_dir + 'H' + str(hydrogen_percentage) + '_phi=' + str(phi) + '_u1=x_' + str(date) + '_test' + str(test_nr) + '.txt'\n",
    "    \n",
    "    # Read data of experiment\n",
    "    data_A = pd.read_csv(filename_A, header=None)\n",
    "    flashback_data[key].append(data_A)"
   ]
  },
  {
   "cell_type": "markdown",
   "metadata": {},
   "source": [
    "### Flasback map"
   ]
  },
  {
   "cell_type": "code",
   "execution_count": 1,
   "metadata": {},
   "outputs": [
    {
     "ename": "NameError",
     "evalue": "name 'plt' is not defined",
     "output_type": "error",
     "traceback": [
      "\u001b[1;31m---------------------------------------------------------------------------\u001b[0m",
      "\u001b[1;31mNameError\u001b[0m                                 Traceback (most recent call last)",
      "\u001b[1;32m\\luukalt\\phd\\docs\\projects\\combustor_flamesheet_cyl\\flashback_propensity.ipynb Cell 6'\u001b[0m in \u001b[0;36m<cell line: 9>\u001b[1;34m()\u001b[0m\n\u001b[0;32m      <a href='vscode-notebook-cell://github/luukalt/phd/docs/projects/combustor_flamesheet_cyl/flashback_propensity.ipynb#ch0000047vscode-vfs?line=5'>6</a>\u001b[0m cmap \u001b[39m=\u001b[39m cm\u001b[39m.\u001b[39mviridis\n\u001b[0;32m      <a href='vscode-notebook-cell://github/luukalt/phd/docs/projects/combustor_flamesheet_cyl/flashback_propensity.ipynb#ch0000047vscode-vfs?line=7'>8</a>\u001b[0m \u001b[39m# Use Latex font in plots\u001b[39;00m\n\u001b[1;32m----> <a href='vscode-notebook-cell://github/luukalt/phd/docs/projects/combustor_flamesheet_cyl/flashback_propensity.ipynb#ch0000047vscode-vfs?line=8'>9</a>\u001b[0m plt\u001b[39m.\u001b[39mrcParams\u001b[39m.\u001b[39mupdate({\n\u001b[0;32m     <a href='vscode-notebook-cell://github/luukalt/phd/docs/projects/combustor_flamesheet_cyl/flashback_propensity.ipynb#ch0000047vscode-vfs?line=9'>10</a>\u001b[0m     \u001b[39m\"\u001b[39m\u001b[39mtext.usetex\u001b[39m\u001b[39m\"\u001b[39m: \u001b[39mTrue\u001b[39;00m,\n\u001b[0;32m     <a href='vscode-notebook-cell://github/luukalt/phd/docs/projects/combustor_flamesheet_cyl/flashback_propensity.ipynb#ch0000047vscode-vfs?line=10'>11</a>\u001b[0m     \u001b[39m\"\u001b[39m\u001b[39mfont.family\u001b[39m\u001b[39m\"\u001b[39m: \u001b[39m\"\u001b[39m\u001b[39mserif\u001b[39m\u001b[39m\"\u001b[39m,\n\u001b[0;32m     <a href='vscode-notebook-cell://github/luukalt/phd/docs/projects/combustor_flamesheet_cyl/flashback_propensity.ipynb#ch0000047vscode-vfs?line=11'>12</a>\u001b[0m     \u001b[39m\"\u001b[39m\u001b[39mfont.serif\u001b[39m\u001b[39m\"\u001b[39m: [\u001b[39m\"\u001b[39m\u001b[39mComputer Modern Roman\u001b[39m\u001b[39m\"\u001b[39m],\n\u001b[0;32m     <a href='vscode-notebook-cell://github/luukalt/phd/docs/projects/combustor_flamesheet_cyl/flashback_propensity.ipynb#ch0000047vscode-vfs?line=12'>13</a>\u001b[0m     \u001b[39m\"\u001b[39m\u001b[39mfont.size\u001b[39m\u001b[39m\"\u001b[39m: \u001b[39m14.0\u001b[39m})\n\u001b[0;32m     <a href='vscode-notebook-cell://github/luukalt/phd/docs/projects/combustor_flamesheet_cyl/flashback_propensity.ipynb#ch0000047vscode-vfs?line=14'>15</a>\u001b[0m \u001b[39m# Define hydrogen percentages\u001b[39;00m\n\u001b[0;32m     <a href='vscode-notebook-cell://github/luukalt/phd/docs/projects/combustor_flamesheet_cyl/flashback_propensity.ipynb#ch0000047vscode-vfs?line=15'>16</a>\u001b[0m H2_percentages \u001b[39m=\u001b[39m [\u001b[39m0\u001b[39m, \u001b[39m25\u001b[39m, \u001b[39m50\u001b[39m, \u001b[39m75\u001b[39m, \u001b[39m100\u001b[39m]\n",
      "\u001b[1;31mNameError\u001b[0m: name 'plt' is not defined"
     ]
    }
   ],
   "source": [
    "#%% RESULTS: PLOT CONFIGURATION\n",
    "# Import packages\n",
    "import matplotlib.cm as cm\n",
    "\n",
    "# Color palette\n",
    "cmap = cm.viridis\n",
    "\n",
    "# Use Latex font in plots\n",
    "plt.rcParams.update({\n",
    "    \"text.usetex\": True,\n",
    "    \"font.family\": \"serif\",\n",
    "    \"font.serif\": [\"Computer Modern Roman\"],\n",
    "    \"font.size\": 14.0})\n",
    "\n",
    "# Define hydrogen percentages\n",
    "H2_percentages = [0, 25, 50, 75, 100]\n",
    "\n",
    "# Color for hydrogen content in plot\n",
    "colors = cm.viridis(np.linspace(0, 1, len(H2_percentages)))\n",
    "\n",
    "label = 'H2% = ' + str(H2_percentages)\n",
    "\n",
    "# Marker specification\n",
    "fill_style_steel = 'full'\n",
    "fill_style_quartz = 'none'\n",
    "\n",
    "#%% RESULTS: FLASHBACK PROPENSITY MAP FOR VARYING HYDROGEN CONTENT AND PHI at FB\n",
    "fig1, ax1 = plt.subplots()\n",
    "\n",
    "for key, value in flashback_data.items():\n",
    "    \n",
    "    phi_FB = flashback_data[key][index_data][index_phi_meas][value[index_u_u_FB]]\n",
    "    u_u_FB = flashback_data[key][index_data][index_u_u_meas][value[index_u_u_FB]]\n",
    "        \n",
    "    ax1.plot(phi_FB, u_u_FB, color=marker_color, marker='o', label=label_text, linestyle=\"None\")\n",
    "\n",
    "    # ax1.plot(phi_FB, u_u_FB, color=marker_color, marker='o', linestyle=\"None\")\n",
    "    \n",
    "    \n",
    "# for key, value in flashback_data_quartz.items():\n",
    "    \n",
    "#     if key[0] == 'H0':\n",
    "#         label_added = label_added_H0_quartz\n",
    "#         marker_color = H0_color\n",
    "#         label_text = H0_quartz_label\n",
    "#     elif key[0] == 'H25':\n",
    "#         label_added = label_added_H25_quartz\n",
    "#         marker_color = H25_color\n",
    "#         label_text = H25_quartz_label\n",
    "#     elif key[0] == 'H50':\n",
    "#         label_added = label_added_H50_quartz\n",
    "#         marker_color = H50_color\n",
    "#         label_text = H50_quartz_label\n",
    "#     elif key[0] == 'H75':\n",
    "#         label_added = label_added_H75_quartz\n",
    "#         marker_color = H75_color\n",
    "#         label_text = H75_quartz_label\n",
    "#     elif key[0] == 'H100':\n",
    "#         label_added = label_added_H100_quartz\n",
    "#         marker_color = H100_color\n",
    "#         label_text = H100_quartz_label\n",
    "\n",
    "#     phi_FB = value[1]\n",
    "#     u_u_FB = value[2]\n",
    "    \n",
    "#     if not label_added: \n",
    "#         plt.plot(phi_FB, u_u_FB, color=marker_color, marker='o', fillstyle=fill_style_quartz, label=label_text, linestyle=\"None\")\n",
    "#         if key[0] == 'H0':\n",
    "#             label_added_H0_quartz = True\n",
    "#         elif key[0] == 'H25':\n",
    "#             label_added_H25_quartz = True\n",
    "#         elif key[0] == 'H50':\n",
    "#             label_added_H50_quartz = True\n",
    "#         elif key[0] == 'H75':\n",
    "#             label_added_H75_quartz = True\n",
    "#         elif key[0] == 'H100':\n",
    "#             label_added_H100_quartz = True\n",
    "#     else:\n",
    "#         ax1.plot(phi_FB, u_u_FB, color=marker_color, marker='o', fillstyle=fill_style_quartz, linestyle=\"None\")\n",
    "    \n",
    "    ax1.xlabel('$\\phi$ [-]')\n",
    "    ax1.ylabel('$u_{u,{FB}}$ [m/s]')\n",
    "    ax1.xlim(0.25, 1.1)\n",
    "    ax1.ylim(0, 9.00)\n",
    "    ax1.grid(b=True, which='major', color='#666666', linestyle='--', axis='both')\n",
    "    ax1.legend(bbox_to_anchor=(1, 1))\n",
    "    #plt.title('Figure ' + str(fig_nr) + ': ' + 'Flashback propensity map for multiple mixtures')\n",
    "  "
   ]
  },
  {
   "cell_type": "markdown",
   "metadata": {},
   "source": [
    "## Flashback videos - Steel liner\n",
    "\n",
    "### $H_{2}\\%=0$\n"
   ]
  },
  {
   "cell_type": "markdown",
   "metadata": {},
   "source": [
    "#### $H_{2}\\%=0$, $\\phi=0.6$, test 1"
   ]
  },
  {
   "cell_type": "code",
   "execution_count": null,
   "metadata": {},
   "outputs": [],
   "source": [
    "from IPython.display import YouTubeVideo\n",
    "YouTubeVideo('q3qBS7BRSQA',width = 600,height=400) "
   ]
  },
  {
   "cell_type": "markdown",
   "metadata": {},
   "source": [
    "#### $H_{2}\\%=0$, $\\phi=0.7$, test 1"
   ]
  },
  {
   "cell_type": "code",
   "execution_count": null,
   "metadata": {},
   "outputs": [],
   "source": [
    "from IPython.display import YouTubeVideo\n",
    "YouTubeVideo('bNPi9mI3vuU',width = 600,height=400) "
   ]
  },
  {
   "cell_type": "markdown",
   "metadata": {},
   "source": [
    "#### $H_{2}\\%=0$, $\\phi=0.7$, test 2"
   ]
  },
  {
   "cell_type": "code",
   "execution_count": null,
   "metadata": {},
   "outputs": [],
   "source": [
    "from IPython.display import YouTubeVideo\n",
    "YouTubeVideo('o6xXOpnBUIg',width = 600,height=400) "
   ]
  },
  {
   "cell_type": "markdown",
   "metadata": {},
   "source": [
    "#### $H_{2}\\%=0$, $\\phi=0.8$, test 1"
   ]
  },
  {
   "cell_type": "code",
   "execution_count": null,
   "metadata": {},
   "outputs": [],
   "source": [
    "from IPython.display import YouTubeVideo\n",
    "YouTubeVideo('MpG-3bEonRo',width = 600,height=400) "
   ]
  },
  {
   "cell_type": "markdown",
   "metadata": {},
   "source": [
    "#### $H_{2}\\%=0$, $\\phi=0.8$, test 2"
   ]
  },
  {
   "cell_type": "code",
   "execution_count": null,
   "metadata": {},
   "outputs": [],
   "source": [
    "from IPython.display import YouTubeVideo\n",
    "YouTubeVideo('AktOH5yl4BM',width = 600,height=400) "
   ]
  },
  {
   "cell_type": "markdown",
   "metadata": {},
   "source": [
    "#### $H_{2}\\%=0$, $\\phi=0.9$, test 1"
   ]
  },
  {
   "cell_type": "code",
   "execution_count": null,
   "metadata": {},
   "outputs": [],
   "source": [
    "from IPython.display import YouTubeVideo\n",
    "YouTubeVideo('s9oxonSV3jg',width = 600,height=400) "
   ]
  },
  {
   "cell_type": "markdown",
   "metadata": {},
   "source": [
    "#### $H_{2}\\%=0$, $\\phi=0.9$, test 2"
   ]
  },
  {
   "cell_type": "code",
   "execution_count": null,
   "metadata": {},
   "outputs": [],
   "source": [
    "from IPython.display import YouTubeVideo\n",
    "YouTubeVideo('1tu5z1fIZkc',width = 600,height=400) "
   ]
  },
  {
   "cell_type": "markdown",
   "metadata": {},
   "source": [
    "#### $H_{2}\\%=0$, $\\phi=1.0$, test 1"
   ]
  },
  {
   "cell_type": "code",
   "execution_count": null,
   "metadata": {},
   "outputs": [],
   "source": [
    "from IPython.display import YouTubeVideo\n",
    "YouTubeVideo('TBOq83LwvVg',width = 600,height=400) "
   ]
  },
  {
   "cell_type": "markdown",
   "metadata": {},
   "source": [
    "#### $H_{2}\\%=0$, $\\phi=1.0$, test 2"
   ]
  },
  {
   "cell_type": "code",
   "execution_count": null,
   "metadata": {},
   "outputs": [],
   "source": [
    "from IPython.display import YouTubeVideo\n",
    "YouTubeVideo('2J1lYJlzZA4',width = 600,height=400) "
   ]
  },
  {
   "cell_type": "markdown",
   "metadata": {},
   "source": [
    "### $H_{2}\\%=25$"
   ]
  },
  {
   "cell_type": "markdown",
   "metadata": {},
   "source": [
    "#### $H_{2}\\%=25$, $\\phi=0.5$, test 1"
   ]
  },
  {
   "cell_type": "code",
   "execution_count": null,
   "metadata": {},
   "outputs": [],
   "source": [
    "from IPython.display import YouTubeVideo\n",
    "YouTubeVideo('HWf9_6rEy34',width = 600,height=400) "
   ]
  },
  {
   "cell_type": "markdown",
   "metadata": {},
   "source": [
    "#### $H_{2}\\%=25$, $\\phi=0.5$, test 2"
   ]
  },
  {
   "cell_type": "code",
   "execution_count": null,
   "metadata": {},
   "outputs": [],
   "source": [
    "from IPython.display import YouTubeVideo\n",
    "YouTubeVideo('IjeVxPprx2o',width = 600,height=400) "
   ]
  },
  {
   "cell_type": "markdown",
   "metadata": {},
   "source": [
    "#### $H_{2}\\%=25$, $\\phi=0.6$, test 1"
   ]
  },
  {
   "cell_type": "code",
   "execution_count": null,
   "metadata": {},
   "outputs": [],
   "source": [
    "from IPython.display import YouTubeVideo\n",
    "YouTubeVideo('Hg_Ak2wlmkg',width = 600,height=400) "
   ]
  },
  {
   "cell_type": "markdown",
   "metadata": {},
   "source": [
    "#### $H_{2}\\%=25$, $\\phi=0.6$, test 2"
   ]
  },
  {
   "cell_type": "code",
   "execution_count": null,
   "metadata": {},
   "outputs": [],
   "source": [
    "from IPython.display import YouTubeVideo\n",
    "YouTubeVideo('kbyG-3_yVhA',width = 600,height=400) "
   ]
  },
  {
   "cell_type": "markdown",
   "metadata": {},
   "source": [
    "#### $H_{2}\\%=25$, $\\phi=0.7$, test 1"
   ]
  },
  {
   "cell_type": "code",
   "execution_count": null,
   "metadata": {},
   "outputs": [],
   "source": [
    "from IPython.display import YouTubeVideo\n",
    "YouTubeVideo('p6V2hfmDZLs',width = 600,height=400) "
   ]
  },
  {
   "cell_type": "markdown",
   "metadata": {},
   "source": [
    "#### $H_{2}\\%=25$, $\\phi=0.7$, test 2"
   ]
  },
  {
   "cell_type": "code",
   "execution_count": null,
   "metadata": {},
   "outputs": [],
   "source": [
    "from IPython.display import YouTubeVideo\n",
    "YouTubeVideo('xOEmpqiB3ac',width = 600,height=400) "
   ]
  },
  {
   "cell_type": "markdown",
   "metadata": {},
   "source": [
    "#### $H_{2}\\%=25$, $\\phi=0.8$, test 1"
   ]
  },
  {
   "cell_type": "code",
   "execution_count": null,
   "metadata": {},
   "outputs": [],
   "source": [
    "from IPython.display import YouTubeVideo\n",
    "YouTubeVideo('HTaZDBRsEQ8',width = 600,height=400) "
   ]
  },
  {
   "cell_type": "markdown",
   "metadata": {},
   "source": [
    "#### $H_{2}\\%=25$, $\\phi=0.8$, test 2"
   ]
  },
  {
   "cell_type": "code",
   "execution_count": null,
   "metadata": {},
   "outputs": [],
   "source": [
    "from IPython.display import YouTubeVideo\n",
    "YouTubeVideo('ooZRDF80R6E',width = 600,height=400) "
   ]
  },
  {
   "cell_type": "markdown",
   "metadata": {},
   "source": [
    "#### $H_{2}\\%=25$, $\\phi=0.9$, test 1"
   ]
  },
  {
   "cell_type": "code",
   "execution_count": null,
   "metadata": {},
   "outputs": [],
   "source": [
    "from IPython.display import YouTubeVideo\n",
    "YouTubeVideo('SycQsYzcJZg',width = 600,height=400) "
   ]
  },
  {
   "cell_type": "markdown",
   "metadata": {},
   "source": [
    "#### $H_{2}\\%=25$, $\\phi=0.9$, test 2"
   ]
  },
  {
   "cell_type": "code",
   "execution_count": null,
   "metadata": {},
   "outputs": [],
   "source": [
    "from IPython.display import YouTubeVideo\n",
    "YouTubeVideo('vyCFxFCZoZ4',width = 600,height=400) "
   ]
  },
  {
   "cell_type": "markdown",
   "metadata": {},
   "source": [
    "#### $H_{2}\\%=25$, $\\phi=1.0$, test 1"
   ]
  },
  {
   "cell_type": "code",
   "execution_count": null,
   "metadata": {},
   "outputs": [],
   "source": [
    "from IPython.display import YouTubeVideo\n",
    "YouTubeVideo('Pa-r-qzj0FE',width = 600,height=400) "
   ]
  }
 ],
 "metadata": {
  "interpreter": {
   "hash": "3ad8b50326bbde5d145363c001ec670b52b52965857e587be05df2d5f3a1c694"
  },
  "kernelspec": {
   "display_name": "Python 3.9.9 ('cantera_env')",
   "language": "python",
   "name": "python3"
  },
  "language_info": {
   "codemirror_mode": {
    "name": "ipython",
    "version": 3
   },
   "file_extension": ".py",
   "mimetype": "text/x-python",
   "name": "python",
   "nbconvert_exporter": "python",
   "pygments_lexer": "ipython3",
   "version": "3.9.10"
  },
  "orig_nbformat": 4
 },
 "nbformat": 4,
 "nbformat_minor": 2
}
