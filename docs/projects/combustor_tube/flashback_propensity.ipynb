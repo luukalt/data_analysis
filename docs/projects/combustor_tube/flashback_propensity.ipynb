{
 "cells": [
  {
   "cell_type": "markdown",
   "metadata": {},
   "source": [
    "# Flashback propensity"
   ]
  }
 ],
 "metadata": {
  "interpreter": {
   "hash": "a87e3452448879712ca67145a35473ef394e60a338ff2b885fc98c3feca6ff70"
  },
  "kernelspec": {
   "display_name": "Python 3.9.10 ('cantera_env')",
   "language": "python",
   "name": "python3"
  },
  "language_info": {
   "name": "python",
   "version": "3.9.10"
  },
  "orig_nbformat": 4
 },
 "nbformat": 4,
 "nbformat_minor": 2
}
